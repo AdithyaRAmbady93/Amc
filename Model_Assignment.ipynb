{
  "cells": [
    {
      "cell_type": "code",
      "execution_count": 6,
      "metadata": {
        "id": "_aGAeswK18p1"
      },
      "outputs": [],
      "source": [
        "# Import Libraries\n",
        "\n",
        "import pandas as pd\n",
        "import numpy as np\n",
        "import matplotlib.pyplot as plt"
      ]
    },
    {
      "cell_type": "code",
      "execution_count": 7,
      "metadata": {
        "id": "dUuSrXXq2RJi"
      },
      "outputs": [],
      "source": [
        "# Read the dataset into python environment\n",
        "\n",
        "tit = pd.read_csv('/content/titanic_dataset .csv')"
      ]
    },
    {
      "cell_type": "code",
      "execution_count": 8,
      "metadata": {
        "colab": {
          "base_uri": "https://localhost:8080/"
        },
        "id": "gV2emK-M2ZBm",
        "outputId": "b6d2c81c-8079-473b-a49f-c52e8ef3c269"
      },
      "outputs": [
        {
          "output_type": "execute_result",
          "data": {
            "text/plain": [
              "(891, 12)"
            ]
          },
          "metadata": {},
          "execution_count": 8
        }
      ],
      "source": [
        "# Understand no.of rows and no.of columns\n",
        "\n",
        "tit.shape"
      ]
    },
    {
      "cell_type": "code",
      "execution_count": 9,
      "metadata": {
        "colab": {
          "base_uri": "https://localhost:8080/"
        },
        "id": "zImyz3SL3Iwf",
        "outputId": "580330b3-5892-421b-e6ce-86430a823a9d"
      },
      "outputs": [
        {
          "output_type": "stream",
          "name": "stdout",
          "text": [
            "<class 'pandas.core.frame.DataFrame'>\n",
            "RangeIndex: 891 entries, 0 to 890\n",
            "Data columns (total 12 columns):\n",
            " #   Column       Non-Null Count  Dtype  \n",
            "---  ------       --------------  -----  \n",
            " 0   PassengerId  891 non-null    int64  \n",
            " 1   Survived     891 non-null    int64  \n",
            " 2   Pclass       891 non-null    int64  \n",
            " 3   Name         891 non-null    object \n",
            " 4   Sex          891 non-null    object \n",
            " 5   Age          714 non-null    float64\n",
            " 6   SibSp        891 non-null    int64  \n",
            " 7   Parch        891 non-null    int64  \n",
            " 8   Ticket       891 non-null    object \n",
            " 9   Fare         891 non-null    float64\n",
            " 10  Cabin        204 non-null    object \n",
            " 11  Embarked     889 non-null    object \n",
            "dtypes: float64(2), int64(5), object(5)\n",
            "memory usage: 83.7+ KB\n"
          ]
        }
      ],
      "source": [
        "# Datatypes\n",
        "\n",
        "tit.info()"
      ]
    },
    {
      "cell_type": "code",
      "execution_count": 10,
      "metadata": {
        "colab": {
          "base_uri": "https://localhost:8080/",
          "height": 400
        },
        "id": "ymg90-y2uY_2",
        "outputId": "6951538c-df79-413a-dbfb-9137cae224d8"
      },
      "outputs": [
        {
          "output_type": "execute_result",
          "data": {
            "text/plain": [
              "   PassengerId  Survived  Pclass  \\\n",
              "0            1         0       3   \n",
              "1            2         1       1   \n",
              "2            3         1       3   \n",
              "3            4         1       1   \n",
              "\n",
              "                                                Name     Sex   Age  SibSp  \\\n",
              "0                            Braund, Mr. Owen Harris    male  22.0      1   \n",
              "1  Cumings, Mrs. John Bradley (Florence Briggs Th...  female  38.0      1   \n",
              "2                             Heikkinen, Miss. Laina  female  26.0      0   \n",
              "3       Futrelle, Mrs. Jacques Heath (Lily May Peel)  female  35.0      1   \n",
              "\n",
              "   Parch            Ticket     Fare Cabin Embarked  \n",
              "0      0         A/5 21171   7.2500   NaN        S  \n",
              "1      0          PC 17599  71.2833   C85        C  \n",
              "2      0  STON/O2. 3101282   7.9250   NaN        S  \n",
              "3      0            113803  53.1000  C123        S  "
            ],
            "text/html": [
              "\n",
              "  <div id=\"df-1a6f6c7e-fa57-469a-9ef2-ca2f9d8f6d9e\" class=\"colab-df-container\">\n",
              "    <div>\n",
              "<style scoped>\n",
              "    .dataframe tbody tr th:only-of-type {\n",
              "        vertical-align: middle;\n",
              "    }\n",
              "\n",
              "    .dataframe tbody tr th {\n",
              "        vertical-align: top;\n",
              "    }\n",
              "\n",
              "    .dataframe thead th {\n",
              "        text-align: right;\n",
              "    }\n",
              "</style>\n",
              "<table border=\"1\" class=\"dataframe\">\n",
              "  <thead>\n",
              "    <tr style=\"text-align: right;\">\n",
              "      <th></th>\n",
              "      <th>PassengerId</th>\n",
              "      <th>Survived</th>\n",
              "      <th>Pclass</th>\n",
              "      <th>Name</th>\n",
              "      <th>Sex</th>\n",
              "      <th>Age</th>\n",
              "      <th>SibSp</th>\n",
              "      <th>Parch</th>\n",
              "      <th>Ticket</th>\n",
              "      <th>Fare</th>\n",
              "      <th>Cabin</th>\n",
              "      <th>Embarked</th>\n",
              "    </tr>\n",
              "  </thead>\n",
              "  <tbody>\n",
              "    <tr>\n",
              "      <th>0</th>\n",
              "      <td>1</td>\n",
              "      <td>0</td>\n",
              "      <td>3</td>\n",
              "      <td>Braund, Mr. Owen Harris</td>\n",
              "      <td>male</td>\n",
              "      <td>22.0</td>\n",
              "      <td>1</td>\n",
              "      <td>0</td>\n",
              "      <td>A/5 21171</td>\n",
              "      <td>7.2500</td>\n",
              "      <td>NaN</td>\n",
              "      <td>S</td>\n",
              "    </tr>\n",
              "    <tr>\n",
              "      <th>1</th>\n",
              "      <td>2</td>\n",
              "      <td>1</td>\n",
              "      <td>1</td>\n",
              "      <td>Cumings, Mrs. John Bradley (Florence Briggs Th...</td>\n",
              "      <td>female</td>\n",
              "      <td>38.0</td>\n",
              "      <td>1</td>\n",
              "      <td>0</td>\n",
              "      <td>PC 17599</td>\n",
              "      <td>71.2833</td>\n",
              "      <td>C85</td>\n",
              "      <td>C</td>\n",
              "    </tr>\n",
              "    <tr>\n",
              "      <th>2</th>\n",
              "      <td>3</td>\n",
              "      <td>1</td>\n",
              "      <td>3</td>\n",
              "      <td>Heikkinen, Miss. Laina</td>\n",
              "      <td>female</td>\n",
              "      <td>26.0</td>\n",
              "      <td>0</td>\n",
              "      <td>0</td>\n",
              "      <td>STON/O2. 3101282</td>\n",
              "      <td>7.9250</td>\n",
              "      <td>NaN</td>\n",
              "      <td>S</td>\n",
              "    </tr>\n",
              "    <tr>\n",
              "      <th>3</th>\n",
              "      <td>4</td>\n",
              "      <td>1</td>\n",
              "      <td>1</td>\n",
              "      <td>Futrelle, Mrs. Jacques Heath (Lily May Peel)</td>\n",
              "      <td>female</td>\n",
              "      <td>35.0</td>\n",
              "      <td>1</td>\n",
              "      <td>0</td>\n",
              "      <td>113803</td>\n",
              "      <td>53.1000</td>\n",
              "      <td>C123</td>\n",
              "      <td>S</td>\n",
              "    </tr>\n",
              "  </tbody>\n",
              "</table>\n",
              "</div>\n",
              "    <div class=\"colab-df-buttons\">\n",
              "\n",
              "  <div class=\"colab-df-container\">\n",
              "    <button class=\"colab-df-convert\" onclick=\"convertToInteractive('df-1a6f6c7e-fa57-469a-9ef2-ca2f9d8f6d9e')\"\n",
              "            title=\"Convert this dataframe to an interactive table.\"\n",
              "            style=\"display:none;\">\n",
              "\n",
              "  <svg xmlns=\"http://www.w3.org/2000/svg\" height=\"24px\" viewBox=\"0 -960 960 960\">\n",
              "    <path d=\"M120-120v-720h720v720H120Zm60-500h600v-160H180v160Zm220 220h160v-160H400v160Zm0 220h160v-160H400v160ZM180-400h160v-160H180v160Zm440 0h160v-160H620v160ZM180-180h160v-160H180v160Zm440 0h160v-160H620v160Z\"/>\n",
              "  </svg>\n",
              "    </button>\n",
              "\n",
              "  <style>\n",
              "    .colab-df-container {\n",
              "      display:flex;\n",
              "      gap: 12px;\n",
              "    }\n",
              "\n",
              "    .colab-df-convert {\n",
              "      background-color: #E8F0FE;\n",
              "      border: none;\n",
              "      border-radius: 50%;\n",
              "      cursor: pointer;\n",
              "      display: none;\n",
              "      fill: #1967D2;\n",
              "      height: 32px;\n",
              "      padding: 0 0 0 0;\n",
              "      width: 32px;\n",
              "    }\n",
              "\n",
              "    .colab-df-convert:hover {\n",
              "      background-color: #E2EBFA;\n",
              "      box-shadow: 0px 1px 2px rgba(60, 64, 67, 0.3), 0px 1px 3px 1px rgba(60, 64, 67, 0.15);\n",
              "      fill: #174EA6;\n",
              "    }\n",
              "\n",
              "    .colab-df-buttons div {\n",
              "      margin-bottom: 4px;\n",
              "    }\n",
              "\n",
              "    [theme=dark] .colab-df-convert {\n",
              "      background-color: #3B4455;\n",
              "      fill: #D2E3FC;\n",
              "    }\n",
              "\n",
              "    [theme=dark] .colab-df-convert:hover {\n",
              "      background-color: #434B5C;\n",
              "      box-shadow: 0px 1px 3px 1px rgba(0, 0, 0, 0.15);\n",
              "      filter: drop-shadow(0px 1px 2px rgba(0, 0, 0, 0.3));\n",
              "      fill: #FFFFFF;\n",
              "    }\n",
              "  </style>\n",
              "\n",
              "    <script>\n",
              "      const buttonEl =\n",
              "        document.querySelector('#df-1a6f6c7e-fa57-469a-9ef2-ca2f9d8f6d9e button.colab-df-convert');\n",
              "      buttonEl.style.display =\n",
              "        google.colab.kernel.accessAllowed ? 'block' : 'none';\n",
              "\n",
              "      async function convertToInteractive(key) {\n",
              "        const element = document.querySelector('#df-1a6f6c7e-fa57-469a-9ef2-ca2f9d8f6d9e');\n",
              "        const dataTable =\n",
              "          await google.colab.kernel.invokeFunction('convertToInteractive',\n",
              "                                                    [key], {});\n",
              "        if (!dataTable) return;\n",
              "\n",
              "        const docLinkHtml = 'Like what you see? Visit the ' +\n",
              "          '<a target=\"_blank\" href=https://colab.research.google.com/notebooks/data_table.ipynb>data table notebook</a>'\n",
              "          + ' to learn more about interactive tables.';\n",
              "        element.innerHTML = '';\n",
              "        dataTable['output_type'] = 'display_data';\n",
              "        await google.colab.output.renderOutput(dataTable, element);\n",
              "        const docLink = document.createElement('div');\n",
              "        docLink.innerHTML = docLinkHtml;\n",
              "        element.appendChild(docLink);\n",
              "      }\n",
              "    </script>\n",
              "  </div>\n",
              "\n",
              "\n",
              "<div id=\"df-b6dd7956-bb63-496d-b469-c6d84d238451\">\n",
              "  <button class=\"colab-df-quickchart\" onclick=\"quickchart('df-b6dd7956-bb63-496d-b469-c6d84d238451')\"\n",
              "            title=\"Suggest charts\"\n",
              "            style=\"display:none;\">\n",
              "\n",
              "<svg xmlns=\"http://www.w3.org/2000/svg\" height=\"24px\"viewBox=\"0 0 24 24\"\n",
              "     width=\"24px\">\n",
              "    <g>\n",
              "        <path d=\"M19 3H5c-1.1 0-2 .9-2 2v14c0 1.1.9 2 2 2h14c1.1 0 2-.9 2-2V5c0-1.1-.9-2-2-2zM9 17H7v-7h2v7zm4 0h-2V7h2v10zm4 0h-2v-4h2v4z\"/>\n",
              "    </g>\n",
              "</svg>\n",
              "  </button>\n",
              "\n",
              "<style>\n",
              "  .colab-df-quickchart {\n",
              "      --bg-color: #E8F0FE;\n",
              "      --fill-color: #1967D2;\n",
              "      --hover-bg-color: #E2EBFA;\n",
              "      --hover-fill-color: #174EA6;\n",
              "      --disabled-fill-color: #AAA;\n",
              "      --disabled-bg-color: #DDD;\n",
              "  }\n",
              "\n",
              "  [theme=dark] .colab-df-quickchart {\n",
              "      --bg-color: #3B4455;\n",
              "      --fill-color: #D2E3FC;\n",
              "      --hover-bg-color: #434B5C;\n",
              "      --hover-fill-color: #FFFFFF;\n",
              "      --disabled-bg-color: #3B4455;\n",
              "      --disabled-fill-color: #666;\n",
              "  }\n",
              "\n",
              "  .colab-df-quickchart {\n",
              "    background-color: var(--bg-color);\n",
              "    border: none;\n",
              "    border-radius: 50%;\n",
              "    cursor: pointer;\n",
              "    display: none;\n",
              "    fill: var(--fill-color);\n",
              "    height: 32px;\n",
              "    padding: 0;\n",
              "    width: 32px;\n",
              "  }\n",
              "\n",
              "  .colab-df-quickchart:hover {\n",
              "    background-color: var(--hover-bg-color);\n",
              "    box-shadow: 0 1px 2px rgba(60, 64, 67, 0.3), 0 1px 3px 1px rgba(60, 64, 67, 0.15);\n",
              "    fill: var(--button-hover-fill-color);\n",
              "  }\n",
              "\n",
              "  .colab-df-quickchart-complete:disabled,\n",
              "  .colab-df-quickchart-complete:disabled:hover {\n",
              "    background-color: var(--disabled-bg-color);\n",
              "    fill: var(--disabled-fill-color);\n",
              "    box-shadow: none;\n",
              "  }\n",
              "\n",
              "  .colab-df-spinner {\n",
              "    border: 2px solid var(--fill-color);\n",
              "    border-color: transparent;\n",
              "    border-bottom-color: var(--fill-color);\n",
              "    animation:\n",
              "      spin 1s steps(1) infinite;\n",
              "  }\n",
              "\n",
              "  @keyframes spin {\n",
              "    0% {\n",
              "      border-color: transparent;\n",
              "      border-bottom-color: var(--fill-color);\n",
              "      border-left-color: var(--fill-color);\n",
              "    }\n",
              "    20% {\n",
              "      border-color: transparent;\n",
              "      border-left-color: var(--fill-color);\n",
              "      border-top-color: var(--fill-color);\n",
              "    }\n",
              "    30% {\n",
              "      border-color: transparent;\n",
              "      border-left-color: var(--fill-color);\n",
              "      border-top-color: var(--fill-color);\n",
              "      border-right-color: var(--fill-color);\n",
              "    }\n",
              "    40% {\n",
              "      border-color: transparent;\n",
              "      border-right-color: var(--fill-color);\n",
              "      border-top-color: var(--fill-color);\n",
              "    }\n",
              "    60% {\n",
              "      border-color: transparent;\n",
              "      border-right-color: var(--fill-color);\n",
              "    }\n",
              "    80% {\n",
              "      border-color: transparent;\n",
              "      border-right-color: var(--fill-color);\n",
              "      border-bottom-color: var(--fill-color);\n",
              "    }\n",
              "    90% {\n",
              "      border-color: transparent;\n",
              "      border-bottom-color: var(--fill-color);\n",
              "    }\n",
              "  }\n",
              "</style>\n",
              "\n",
              "  <script>\n",
              "    async function quickchart(key) {\n",
              "      const quickchartButtonEl =\n",
              "        document.querySelector('#' + key + ' button');\n",
              "      quickchartButtonEl.disabled = true;  // To prevent multiple clicks.\n",
              "      quickchartButtonEl.classList.add('colab-df-spinner');\n",
              "      try {\n",
              "        const charts = await google.colab.kernel.invokeFunction(\n",
              "            'suggestCharts', [key], {});\n",
              "      } catch (error) {\n",
              "        console.error('Error during call to suggestCharts:', error);\n",
              "      }\n",
              "      quickchartButtonEl.classList.remove('colab-df-spinner');\n",
              "      quickchartButtonEl.classList.add('colab-df-quickchart-complete');\n",
              "    }\n",
              "    (() => {\n",
              "      let quickchartButtonEl =\n",
              "        document.querySelector('#df-b6dd7956-bb63-496d-b469-c6d84d238451 button');\n",
              "      quickchartButtonEl.style.display =\n",
              "        google.colab.kernel.accessAllowed ? 'block' : 'none';\n",
              "    })();\n",
              "  </script>\n",
              "</div>\n",
              "    </div>\n",
              "  </div>\n"
            ]
          },
          "metadata": {},
          "execution_count": 10
        }
      ],
      "source": [
        "# Shows head part\n",
        "tit.head(4)"
      ]
    },
    {
      "cell_type": "code",
      "execution_count": 11,
      "metadata": {
        "colab": {
          "base_uri": "https://localhost:8080/",
          "height": 300
        },
        "id": "wxqJUUtS3gXG",
        "outputId": "31c927c0-d0fe-4479-cf04-71656021bbae"
      },
      "outputs": [
        {
          "output_type": "execute_result",
          "data": {
            "text/plain": [
              "       PassengerId    Survived      Pclass         Age       SibSp  \\\n",
              "count   891.000000  891.000000  891.000000  714.000000  891.000000   \n",
              "mean    446.000000    0.383838    2.308642   29.699118    0.523008   \n",
              "std     257.353842    0.486592    0.836071   14.526497    1.102743   \n",
              "min       1.000000    0.000000    1.000000    0.420000    0.000000   \n",
              "25%     223.500000    0.000000    2.000000   20.125000    0.000000   \n",
              "50%     446.000000    0.000000    3.000000   28.000000    0.000000   \n",
              "75%     668.500000    1.000000    3.000000   38.000000    1.000000   \n",
              "max     891.000000    1.000000    3.000000   80.000000    8.000000   \n",
              "\n",
              "            Parch        Fare  \n",
              "count  891.000000  891.000000  \n",
              "mean     0.381594   32.204208  \n",
              "std      0.806057   49.693429  \n",
              "min      0.000000    0.000000  \n",
              "25%      0.000000    7.910400  \n",
              "50%      0.000000   14.454200  \n",
              "75%      0.000000   31.000000  \n",
              "max      6.000000  512.329200  "
            ],
            "text/html": [
              "\n",
              "  <div id=\"df-1d047949-87f4-4684-ab74-d9f1bc5110a9\" class=\"colab-df-container\">\n",
              "    <div>\n",
              "<style scoped>\n",
              "    .dataframe tbody tr th:only-of-type {\n",
              "        vertical-align: middle;\n",
              "    }\n",
              "\n",
              "    .dataframe tbody tr th {\n",
              "        vertical-align: top;\n",
              "    }\n",
              "\n",
              "    .dataframe thead th {\n",
              "        text-align: right;\n",
              "    }\n",
              "</style>\n",
              "<table border=\"1\" class=\"dataframe\">\n",
              "  <thead>\n",
              "    <tr style=\"text-align: right;\">\n",
              "      <th></th>\n",
              "      <th>PassengerId</th>\n",
              "      <th>Survived</th>\n",
              "      <th>Pclass</th>\n",
              "      <th>Age</th>\n",
              "      <th>SibSp</th>\n",
              "      <th>Parch</th>\n",
              "      <th>Fare</th>\n",
              "    </tr>\n",
              "  </thead>\n",
              "  <tbody>\n",
              "    <tr>\n",
              "      <th>count</th>\n",
              "      <td>891.000000</td>\n",
              "      <td>891.000000</td>\n",
              "      <td>891.000000</td>\n",
              "      <td>714.000000</td>\n",
              "      <td>891.000000</td>\n",
              "      <td>891.000000</td>\n",
              "      <td>891.000000</td>\n",
              "    </tr>\n",
              "    <tr>\n",
              "      <th>mean</th>\n",
              "      <td>446.000000</td>\n",
              "      <td>0.383838</td>\n",
              "      <td>2.308642</td>\n",
              "      <td>29.699118</td>\n",
              "      <td>0.523008</td>\n",
              "      <td>0.381594</td>\n",
              "      <td>32.204208</td>\n",
              "    </tr>\n",
              "    <tr>\n",
              "      <th>std</th>\n",
              "      <td>257.353842</td>\n",
              "      <td>0.486592</td>\n",
              "      <td>0.836071</td>\n",
              "      <td>14.526497</td>\n",
              "      <td>1.102743</td>\n",
              "      <td>0.806057</td>\n",
              "      <td>49.693429</td>\n",
              "    </tr>\n",
              "    <tr>\n",
              "      <th>min</th>\n",
              "      <td>1.000000</td>\n",
              "      <td>0.000000</td>\n",
              "      <td>1.000000</td>\n",
              "      <td>0.420000</td>\n",
              "      <td>0.000000</td>\n",
              "      <td>0.000000</td>\n",
              "      <td>0.000000</td>\n",
              "    </tr>\n",
              "    <tr>\n",
              "      <th>25%</th>\n",
              "      <td>223.500000</td>\n",
              "      <td>0.000000</td>\n",
              "      <td>2.000000</td>\n",
              "      <td>20.125000</td>\n",
              "      <td>0.000000</td>\n",
              "      <td>0.000000</td>\n",
              "      <td>7.910400</td>\n",
              "    </tr>\n",
              "    <tr>\n",
              "      <th>50%</th>\n",
              "      <td>446.000000</td>\n",
              "      <td>0.000000</td>\n",
              "      <td>3.000000</td>\n",
              "      <td>28.000000</td>\n",
              "      <td>0.000000</td>\n",
              "      <td>0.000000</td>\n",
              "      <td>14.454200</td>\n",
              "    </tr>\n",
              "    <tr>\n",
              "      <th>75%</th>\n",
              "      <td>668.500000</td>\n",
              "      <td>1.000000</td>\n",
              "      <td>3.000000</td>\n",
              "      <td>38.000000</td>\n",
              "      <td>1.000000</td>\n",
              "      <td>0.000000</td>\n",
              "      <td>31.000000</td>\n",
              "    </tr>\n",
              "    <tr>\n",
              "      <th>max</th>\n",
              "      <td>891.000000</td>\n",
              "      <td>1.000000</td>\n",
              "      <td>3.000000</td>\n",
              "      <td>80.000000</td>\n",
              "      <td>8.000000</td>\n",
              "      <td>6.000000</td>\n",
              "      <td>512.329200</td>\n",
              "    </tr>\n",
              "  </tbody>\n",
              "</table>\n",
              "</div>\n",
              "    <div class=\"colab-df-buttons\">\n",
              "\n",
              "  <div class=\"colab-df-container\">\n",
              "    <button class=\"colab-df-convert\" onclick=\"convertToInteractive('df-1d047949-87f4-4684-ab74-d9f1bc5110a9')\"\n",
              "            title=\"Convert this dataframe to an interactive table.\"\n",
              "            style=\"display:none;\">\n",
              "\n",
              "  <svg xmlns=\"http://www.w3.org/2000/svg\" height=\"24px\" viewBox=\"0 -960 960 960\">\n",
              "    <path d=\"M120-120v-720h720v720H120Zm60-500h600v-160H180v160Zm220 220h160v-160H400v160Zm0 220h160v-160H400v160ZM180-400h160v-160H180v160Zm440 0h160v-160H620v160ZM180-180h160v-160H180v160Zm440 0h160v-160H620v160Z\"/>\n",
              "  </svg>\n",
              "    </button>\n",
              "\n",
              "  <style>\n",
              "    .colab-df-container {\n",
              "      display:flex;\n",
              "      gap: 12px;\n",
              "    }\n",
              "\n",
              "    .colab-df-convert {\n",
              "      background-color: #E8F0FE;\n",
              "      border: none;\n",
              "      border-radius: 50%;\n",
              "      cursor: pointer;\n",
              "      display: none;\n",
              "      fill: #1967D2;\n",
              "      height: 32px;\n",
              "      padding: 0 0 0 0;\n",
              "      width: 32px;\n",
              "    }\n",
              "\n",
              "    .colab-df-convert:hover {\n",
              "      background-color: #E2EBFA;\n",
              "      box-shadow: 0px 1px 2px rgba(60, 64, 67, 0.3), 0px 1px 3px 1px rgba(60, 64, 67, 0.15);\n",
              "      fill: #174EA6;\n",
              "    }\n",
              "\n",
              "    .colab-df-buttons div {\n",
              "      margin-bottom: 4px;\n",
              "    }\n",
              "\n",
              "    [theme=dark] .colab-df-convert {\n",
              "      background-color: #3B4455;\n",
              "      fill: #D2E3FC;\n",
              "    }\n",
              "\n",
              "    [theme=dark] .colab-df-convert:hover {\n",
              "      background-color: #434B5C;\n",
              "      box-shadow: 0px 1px 3px 1px rgba(0, 0, 0, 0.15);\n",
              "      filter: drop-shadow(0px 1px 2px rgba(0, 0, 0, 0.3));\n",
              "      fill: #FFFFFF;\n",
              "    }\n",
              "  </style>\n",
              "\n",
              "    <script>\n",
              "      const buttonEl =\n",
              "        document.querySelector('#df-1d047949-87f4-4684-ab74-d9f1bc5110a9 button.colab-df-convert');\n",
              "      buttonEl.style.display =\n",
              "        google.colab.kernel.accessAllowed ? 'block' : 'none';\n",
              "\n",
              "      async function convertToInteractive(key) {\n",
              "        const element = document.querySelector('#df-1d047949-87f4-4684-ab74-d9f1bc5110a9');\n",
              "        const dataTable =\n",
              "          await google.colab.kernel.invokeFunction('convertToInteractive',\n",
              "                                                    [key], {});\n",
              "        if (!dataTable) return;\n",
              "\n",
              "        const docLinkHtml = 'Like what you see? Visit the ' +\n",
              "          '<a target=\"_blank\" href=https://colab.research.google.com/notebooks/data_table.ipynb>data table notebook</a>'\n",
              "          + ' to learn more about interactive tables.';\n",
              "        element.innerHTML = '';\n",
              "        dataTable['output_type'] = 'display_data';\n",
              "        await google.colab.output.renderOutput(dataTable, element);\n",
              "        const docLink = document.createElement('div');\n",
              "        docLink.innerHTML = docLinkHtml;\n",
              "        element.appendChild(docLink);\n",
              "      }\n",
              "    </script>\n",
              "  </div>\n",
              "\n",
              "\n",
              "<div id=\"df-1fb4409d-dce6-4ff5-9587-29108b3b27d4\">\n",
              "  <button class=\"colab-df-quickchart\" onclick=\"quickchart('df-1fb4409d-dce6-4ff5-9587-29108b3b27d4')\"\n",
              "            title=\"Suggest charts\"\n",
              "            style=\"display:none;\">\n",
              "\n",
              "<svg xmlns=\"http://www.w3.org/2000/svg\" height=\"24px\"viewBox=\"0 0 24 24\"\n",
              "     width=\"24px\">\n",
              "    <g>\n",
              "        <path d=\"M19 3H5c-1.1 0-2 .9-2 2v14c0 1.1.9 2 2 2h14c1.1 0 2-.9 2-2V5c0-1.1-.9-2-2-2zM9 17H7v-7h2v7zm4 0h-2V7h2v10zm4 0h-2v-4h2v4z\"/>\n",
              "    </g>\n",
              "</svg>\n",
              "  </button>\n",
              "\n",
              "<style>\n",
              "  .colab-df-quickchart {\n",
              "      --bg-color: #E8F0FE;\n",
              "      --fill-color: #1967D2;\n",
              "      --hover-bg-color: #E2EBFA;\n",
              "      --hover-fill-color: #174EA6;\n",
              "      --disabled-fill-color: #AAA;\n",
              "      --disabled-bg-color: #DDD;\n",
              "  }\n",
              "\n",
              "  [theme=dark] .colab-df-quickchart {\n",
              "      --bg-color: #3B4455;\n",
              "      --fill-color: #D2E3FC;\n",
              "      --hover-bg-color: #434B5C;\n",
              "      --hover-fill-color: #FFFFFF;\n",
              "      --disabled-bg-color: #3B4455;\n",
              "      --disabled-fill-color: #666;\n",
              "  }\n",
              "\n",
              "  .colab-df-quickchart {\n",
              "    background-color: var(--bg-color);\n",
              "    border: none;\n",
              "    border-radius: 50%;\n",
              "    cursor: pointer;\n",
              "    display: none;\n",
              "    fill: var(--fill-color);\n",
              "    height: 32px;\n",
              "    padding: 0;\n",
              "    width: 32px;\n",
              "  }\n",
              "\n",
              "  .colab-df-quickchart:hover {\n",
              "    background-color: var(--hover-bg-color);\n",
              "    box-shadow: 0 1px 2px rgba(60, 64, 67, 0.3), 0 1px 3px 1px rgba(60, 64, 67, 0.15);\n",
              "    fill: var(--button-hover-fill-color);\n",
              "  }\n",
              "\n",
              "  .colab-df-quickchart-complete:disabled,\n",
              "  .colab-df-quickchart-complete:disabled:hover {\n",
              "    background-color: var(--disabled-bg-color);\n",
              "    fill: var(--disabled-fill-color);\n",
              "    box-shadow: none;\n",
              "  }\n",
              "\n",
              "  .colab-df-spinner {\n",
              "    border: 2px solid var(--fill-color);\n",
              "    border-color: transparent;\n",
              "    border-bottom-color: var(--fill-color);\n",
              "    animation:\n",
              "      spin 1s steps(1) infinite;\n",
              "  }\n",
              "\n",
              "  @keyframes spin {\n",
              "    0% {\n",
              "      border-color: transparent;\n",
              "      border-bottom-color: var(--fill-color);\n",
              "      border-left-color: var(--fill-color);\n",
              "    }\n",
              "    20% {\n",
              "      border-color: transparent;\n",
              "      border-left-color: var(--fill-color);\n",
              "      border-top-color: var(--fill-color);\n",
              "    }\n",
              "    30% {\n",
              "      border-color: transparent;\n",
              "      border-left-color: var(--fill-color);\n",
              "      border-top-color: var(--fill-color);\n",
              "      border-right-color: var(--fill-color);\n",
              "    }\n",
              "    40% {\n",
              "      border-color: transparent;\n",
              "      border-right-color: var(--fill-color);\n",
              "      border-top-color: var(--fill-color);\n",
              "    }\n",
              "    60% {\n",
              "      border-color: transparent;\n",
              "      border-right-color: var(--fill-color);\n",
              "    }\n",
              "    80% {\n",
              "      border-color: transparent;\n",
              "      border-right-color: var(--fill-color);\n",
              "      border-bottom-color: var(--fill-color);\n",
              "    }\n",
              "    90% {\n",
              "      border-color: transparent;\n",
              "      border-bottom-color: var(--fill-color);\n",
              "    }\n",
              "  }\n",
              "</style>\n",
              "\n",
              "  <script>\n",
              "    async function quickchart(key) {\n",
              "      const quickchartButtonEl =\n",
              "        document.querySelector('#' + key + ' button');\n",
              "      quickchartButtonEl.disabled = true;  // To prevent multiple clicks.\n",
              "      quickchartButtonEl.classList.add('colab-df-spinner');\n",
              "      try {\n",
              "        const charts = await google.colab.kernel.invokeFunction(\n",
              "            'suggestCharts', [key], {});\n",
              "      } catch (error) {\n",
              "        console.error('Error during call to suggestCharts:', error);\n",
              "      }\n",
              "      quickchartButtonEl.classList.remove('colab-df-spinner');\n",
              "      quickchartButtonEl.classList.add('colab-df-quickchart-complete');\n",
              "    }\n",
              "    (() => {\n",
              "      let quickchartButtonEl =\n",
              "        document.querySelector('#df-1fb4409d-dce6-4ff5-9587-29108b3b27d4 button');\n",
              "      quickchartButtonEl.style.display =\n",
              "        google.colab.kernel.accessAllowed ? 'block' : 'none';\n",
              "    })();\n",
              "  </script>\n",
              "</div>\n",
              "    </div>\n",
              "  </div>\n"
            ]
          },
          "metadata": {},
          "execution_count": 11
        }
      ],
      "source": [
        "# statistics\n",
        "\n",
        "tit.describe()"
      ]
    },
    {
      "cell_type": "code",
      "execution_count": 12,
      "metadata": {
        "colab": {
          "base_uri": "https://localhost:8080/"
        },
        "id": "rrlwboAo3iFu",
        "outputId": "e61e39cf-053b-4220-a1c4-1731946cc07a"
      },
      "outputs": [
        {
          "output_type": "execute_result",
          "data": {
            "text/plain": [
              "PassengerId      0\n",
              "Survived         0\n",
              "Pclass           0\n",
              "Name             0\n",
              "Sex              0\n",
              "Age            177\n",
              "SibSp            0\n",
              "Parch            0\n",
              "Ticket           0\n",
              "Fare             0\n",
              "Cabin          687\n",
              "Embarked         2\n",
              "dtype: int64"
            ]
          },
          "metadata": {},
          "execution_count": 12
        }
      ],
      "source": [
        "# Checking Null values\n",
        "\n",
        "tit.isnull().sum()"
      ]
    },
    {
      "cell_type": "markdown",
      "metadata": {
        "id": "Cu4OMTARtLA0"
      },
      "source": [
        "Cleaning Data"
      ]
    },
    {
      "cell_type": "code",
      "execution_count": 13,
      "metadata": {
        "id": "fUydLPE1wHCh"
      },
      "outputs": [],
      "source": [
        "# Cabin column contains 687 null values so it will be remove\n",
        "tit = tit.drop('Cabin', axis=1,)"
      ]
    },
    {
      "cell_type": "code",
      "execution_count": 14,
      "metadata": {
        "id": "zWhtGwvIzhzq"
      },
      "outputs": [],
      "source": [
        "# Remove unwanted columns\n",
        "tit = tit.drop('Name', axis=1,)\n",
        "tit = tit.drop('Ticket', axis=1,)\n"
      ]
    },
    {
      "cell_type": "code",
      "execution_count": 15,
      "metadata": {
        "id": "6kskC8bJ4Uv1"
      },
      "outputs": [],
      "source": [
        "#there few Nullvalues in Age. so replacing Age with mean of the column\n",
        "tit[\"Age\"] = tit[\"Age\"].fillna(tit[\"Age\"].mean())"
      ]
    },
    {
      "cell_type": "code",
      "execution_count": 16,
      "metadata": {
        "colab": {
          "base_uri": "https://localhost:8080/"
        },
        "id": "e3piNtfnt7my",
        "outputId": "91f56324-d117-4715-f29c-943e2edbe50e"
      },
      "outputs": [
        {
          "output_type": "execute_result",
          "data": {
            "text/plain": [
              "array(['S', 'C', 'Q', nan], dtype=object)"
            ]
          },
          "metadata": {},
          "execution_count": 16
        }
      ],
      "source": [
        "# Catagorical values of Embarked\n",
        "tit[\"Embarked\"].unique()"
      ]
    },
    {
      "cell_type": "code",
      "execution_count": 17,
      "metadata": {
        "id": "-lt-IbfFt_-j"
      },
      "outputs": [],
      "source": [
        "#Only 2 Null values in Embarked so these 2 columns filled with 's'\n",
        "tit[\"Embarked\"] = tit[\"Embarked\"].fillna(\"S\")"
      ]
    },
    {
      "cell_type": "code",
      "execution_count": 18,
      "metadata": {
        "colab": {
          "base_uri": "https://localhost:8080/"
        },
        "id": "XrVX8ncswX0F",
        "outputId": "92e39dbd-2af4-4068-e040-095b4e799921"
      },
      "outputs": [
        {
          "output_type": "execute_result",
          "data": {
            "text/plain": [
              "PassengerId    0\n",
              "Survived       0\n",
              "Pclass         0\n",
              "Sex            0\n",
              "Age            0\n",
              "SibSp          0\n",
              "Parch          0\n",
              "Fare           0\n",
              "Embarked       0\n",
              "dtype: int64"
            ]
          },
          "metadata": {},
          "execution_count": 18
        }
      ],
      "source": [
        "#Check the Null values\n",
        "tit.isnull().sum()"
      ]
    },
    {
      "cell_type": "markdown",
      "metadata": {
        "id": "8AsF9ScpwxzP"
      },
      "source": [
        " **Replacing the categorical values into numerical value**"
      ]
    },
    {
      "cell_type": "code",
      "execution_count": 19,
      "metadata": {
        "id": "TAOQMNlmwjn7"
      },
      "outputs": [],
      "source": [
        "tit.Embarked.replace(['S', 'C', 'Q'], [1, 2, 3], inplace=True)"
      ]
    },
    {
      "cell_type": "code",
      "execution_count": 20,
      "metadata": {
        "id": "yjqjkmrDxIut"
      },
      "outputs": [],
      "source": [
        "tit.Sex.replace(['male', 'female'], [1,0], inplace=True)"
      ]
    },
    {
      "cell_type": "code",
      "execution_count": 21,
      "metadata": {
        "colab": {
          "base_uri": "https://localhost:8080/",
          "height": 143
        },
        "id": "TMxlkfsNxUry",
        "outputId": "0236fa49-5158-4485-daab-60a3794bb3ba"
      },
      "outputs": [
        {
          "output_type": "execute_result",
          "data": {
            "text/plain": [
              "   PassengerId  Survived  Pclass  Sex   Age  SibSp  Parch     Fare  Embarked\n",
              "0            1         0       3    1  22.0      1      0   7.2500         1\n",
              "1            2         1       1    0  38.0      1      0  71.2833         2\n",
              "2            3         1       3    0  26.0      0      0   7.9250         1"
            ],
            "text/html": [
              "\n",
              "  <div id=\"df-26165ced-296a-4e34-aa6e-2808ad747ef3\" class=\"colab-df-container\">\n",
              "    <div>\n",
              "<style scoped>\n",
              "    .dataframe tbody tr th:only-of-type {\n",
              "        vertical-align: middle;\n",
              "    }\n",
              "\n",
              "    .dataframe tbody tr th {\n",
              "        vertical-align: top;\n",
              "    }\n",
              "\n",
              "    .dataframe thead th {\n",
              "        text-align: right;\n",
              "    }\n",
              "</style>\n",
              "<table border=\"1\" class=\"dataframe\">\n",
              "  <thead>\n",
              "    <tr style=\"text-align: right;\">\n",
              "      <th></th>\n",
              "      <th>PassengerId</th>\n",
              "      <th>Survived</th>\n",
              "      <th>Pclass</th>\n",
              "      <th>Sex</th>\n",
              "      <th>Age</th>\n",
              "      <th>SibSp</th>\n",
              "      <th>Parch</th>\n",
              "      <th>Fare</th>\n",
              "      <th>Embarked</th>\n",
              "    </tr>\n",
              "  </thead>\n",
              "  <tbody>\n",
              "    <tr>\n",
              "      <th>0</th>\n",
              "      <td>1</td>\n",
              "      <td>0</td>\n",
              "      <td>3</td>\n",
              "      <td>1</td>\n",
              "      <td>22.0</td>\n",
              "      <td>1</td>\n",
              "      <td>0</td>\n",
              "      <td>7.2500</td>\n",
              "      <td>1</td>\n",
              "    </tr>\n",
              "    <tr>\n",
              "      <th>1</th>\n",
              "      <td>2</td>\n",
              "      <td>1</td>\n",
              "      <td>1</td>\n",
              "      <td>0</td>\n",
              "      <td>38.0</td>\n",
              "      <td>1</td>\n",
              "      <td>0</td>\n",
              "      <td>71.2833</td>\n",
              "      <td>2</td>\n",
              "    </tr>\n",
              "    <tr>\n",
              "      <th>2</th>\n",
              "      <td>3</td>\n",
              "      <td>1</td>\n",
              "      <td>3</td>\n",
              "      <td>0</td>\n",
              "      <td>26.0</td>\n",
              "      <td>0</td>\n",
              "      <td>0</td>\n",
              "      <td>7.9250</td>\n",
              "      <td>1</td>\n",
              "    </tr>\n",
              "  </tbody>\n",
              "</table>\n",
              "</div>\n",
              "    <div class=\"colab-df-buttons\">\n",
              "\n",
              "  <div class=\"colab-df-container\">\n",
              "    <button class=\"colab-df-convert\" onclick=\"convertToInteractive('df-26165ced-296a-4e34-aa6e-2808ad747ef3')\"\n",
              "            title=\"Convert this dataframe to an interactive table.\"\n",
              "            style=\"display:none;\">\n",
              "\n",
              "  <svg xmlns=\"http://www.w3.org/2000/svg\" height=\"24px\" viewBox=\"0 -960 960 960\">\n",
              "    <path d=\"M120-120v-720h720v720H120Zm60-500h600v-160H180v160Zm220 220h160v-160H400v160Zm0 220h160v-160H400v160ZM180-400h160v-160H180v160Zm440 0h160v-160H620v160ZM180-180h160v-160H180v160Zm440 0h160v-160H620v160Z\"/>\n",
              "  </svg>\n",
              "    </button>\n",
              "\n",
              "  <style>\n",
              "    .colab-df-container {\n",
              "      display:flex;\n",
              "      gap: 12px;\n",
              "    }\n",
              "\n",
              "    .colab-df-convert {\n",
              "      background-color: #E8F0FE;\n",
              "      border: none;\n",
              "      border-radius: 50%;\n",
              "      cursor: pointer;\n",
              "      display: none;\n",
              "      fill: #1967D2;\n",
              "      height: 32px;\n",
              "      padding: 0 0 0 0;\n",
              "      width: 32px;\n",
              "    }\n",
              "\n",
              "    .colab-df-convert:hover {\n",
              "      background-color: #E2EBFA;\n",
              "      box-shadow: 0px 1px 2px rgba(60, 64, 67, 0.3), 0px 1px 3px 1px rgba(60, 64, 67, 0.15);\n",
              "      fill: #174EA6;\n",
              "    }\n",
              "\n",
              "    .colab-df-buttons div {\n",
              "      margin-bottom: 4px;\n",
              "    }\n",
              "\n",
              "    [theme=dark] .colab-df-convert {\n",
              "      background-color: #3B4455;\n",
              "      fill: #D2E3FC;\n",
              "    }\n",
              "\n",
              "    [theme=dark] .colab-df-convert:hover {\n",
              "      background-color: #434B5C;\n",
              "      box-shadow: 0px 1px 3px 1px rgba(0, 0, 0, 0.15);\n",
              "      filter: drop-shadow(0px 1px 2px rgba(0, 0, 0, 0.3));\n",
              "      fill: #FFFFFF;\n",
              "    }\n",
              "  </style>\n",
              "\n",
              "    <script>\n",
              "      const buttonEl =\n",
              "        document.querySelector('#df-26165ced-296a-4e34-aa6e-2808ad747ef3 button.colab-df-convert');\n",
              "      buttonEl.style.display =\n",
              "        google.colab.kernel.accessAllowed ? 'block' : 'none';\n",
              "\n",
              "      async function convertToInteractive(key) {\n",
              "        const element = document.querySelector('#df-26165ced-296a-4e34-aa6e-2808ad747ef3');\n",
              "        const dataTable =\n",
              "          await google.colab.kernel.invokeFunction('convertToInteractive',\n",
              "                                                    [key], {});\n",
              "        if (!dataTable) return;\n",
              "\n",
              "        const docLinkHtml = 'Like what you see? Visit the ' +\n",
              "          '<a target=\"_blank\" href=https://colab.research.google.com/notebooks/data_table.ipynb>data table notebook</a>'\n",
              "          + ' to learn more about interactive tables.';\n",
              "        element.innerHTML = '';\n",
              "        dataTable['output_type'] = 'display_data';\n",
              "        await google.colab.output.renderOutput(dataTable, element);\n",
              "        const docLink = document.createElement('div');\n",
              "        docLink.innerHTML = docLinkHtml;\n",
              "        element.appendChild(docLink);\n",
              "      }\n",
              "    </script>\n",
              "  </div>\n",
              "\n",
              "\n",
              "<div id=\"df-a2deded1-c2d6-49fe-a1c9-0421d7fe40a3\">\n",
              "  <button class=\"colab-df-quickchart\" onclick=\"quickchart('df-a2deded1-c2d6-49fe-a1c9-0421d7fe40a3')\"\n",
              "            title=\"Suggest charts\"\n",
              "            style=\"display:none;\">\n",
              "\n",
              "<svg xmlns=\"http://www.w3.org/2000/svg\" height=\"24px\"viewBox=\"0 0 24 24\"\n",
              "     width=\"24px\">\n",
              "    <g>\n",
              "        <path d=\"M19 3H5c-1.1 0-2 .9-2 2v14c0 1.1.9 2 2 2h14c1.1 0 2-.9 2-2V5c0-1.1-.9-2-2-2zM9 17H7v-7h2v7zm4 0h-2V7h2v10zm4 0h-2v-4h2v4z\"/>\n",
              "    </g>\n",
              "</svg>\n",
              "  </button>\n",
              "\n",
              "<style>\n",
              "  .colab-df-quickchart {\n",
              "      --bg-color: #E8F0FE;\n",
              "      --fill-color: #1967D2;\n",
              "      --hover-bg-color: #E2EBFA;\n",
              "      --hover-fill-color: #174EA6;\n",
              "      --disabled-fill-color: #AAA;\n",
              "      --disabled-bg-color: #DDD;\n",
              "  }\n",
              "\n",
              "  [theme=dark] .colab-df-quickchart {\n",
              "      --bg-color: #3B4455;\n",
              "      --fill-color: #D2E3FC;\n",
              "      --hover-bg-color: #434B5C;\n",
              "      --hover-fill-color: #FFFFFF;\n",
              "      --disabled-bg-color: #3B4455;\n",
              "      --disabled-fill-color: #666;\n",
              "  }\n",
              "\n",
              "  .colab-df-quickchart {\n",
              "    background-color: var(--bg-color);\n",
              "    border: none;\n",
              "    border-radius: 50%;\n",
              "    cursor: pointer;\n",
              "    display: none;\n",
              "    fill: var(--fill-color);\n",
              "    height: 32px;\n",
              "    padding: 0;\n",
              "    width: 32px;\n",
              "  }\n",
              "\n",
              "  .colab-df-quickchart:hover {\n",
              "    background-color: var(--hover-bg-color);\n",
              "    box-shadow: 0 1px 2px rgba(60, 64, 67, 0.3), 0 1px 3px 1px rgba(60, 64, 67, 0.15);\n",
              "    fill: var(--button-hover-fill-color);\n",
              "  }\n",
              "\n",
              "  .colab-df-quickchart-complete:disabled,\n",
              "  .colab-df-quickchart-complete:disabled:hover {\n",
              "    background-color: var(--disabled-bg-color);\n",
              "    fill: var(--disabled-fill-color);\n",
              "    box-shadow: none;\n",
              "  }\n",
              "\n",
              "  .colab-df-spinner {\n",
              "    border: 2px solid var(--fill-color);\n",
              "    border-color: transparent;\n",
              "    border-bottom-color: var(--fill-color);\n",
              "    animation:\n",
              "      spin 1s steps(1) infinite;\n",
              "  }\n",
              "\n",
              "  @keyframes spin {\n",
              "    0% {\n",
              "      border-color: transparent;\n",
              "      border-bottom-color: var(--fill-color);\n",
              "      border-left-color: var(--fill-color);\n",
              "    }\n",
              "    20% {\n",
              "      border-color: transparent;\n",
              "      border-left-color: var(--fill-color);\n",
              "      border-top-color: var(--fill-color);\n",
              "    }\n",
              "    30% {\n",
              "      border-color: transparent;\n",
              "      border-left-color: var(--fill-color);\n",
              "      border-top-color: var(--fill-color);\n",
              "      border-right-color: var(--fill-color);\n",
              "    }\n",
              "    40% {\n",
              "      border-color: transparent;\n",
              "      border-right-color: var(--fill-color);\n",
              "      border-top-color: var(--fill-color);\n",
              "    }\n",
              "    60% {\n",
              "      border-color: transparent;\n",
              "      border-right-color: var(--fill-color);\n",
              "    }\n",
              "    80% {\n",
              "      border-color: transparent;\n",
              "      border-right-color: var(--fill-color);\n",
              "      border-bottom-color: var(--fill-color);\n",
              "    }\n",
              "    90% {\n",
              "      border-color: transparent;\n",
              "      border-bottom-color: var(--fill-color);\n",
              "    }\n",
              "  }\n",
              "</style>\n",
              "\n",
              "  <script>\n",
              "    async function quickchart(key) {\n",
              "      const quickchartButtonEl =\n",
              "        document.querySelector('#' + key + ' button');\n",
              "      quickchartButtonEl.disabled = true;  // To prevent multiple clicks.\n",
              "      quickchartButtonEl.classList.add('colab-df-spinner');\n",
              "      try {\n",
              "        const charts = await google.colab.kernel.invokeFunction(\n",
              "            'suggestCharts', [key], {});\n",
              "      } catch (error) {\n",
              "        console.error('Error during call to suggestCharts:', error);\n",
              "      }\n",
              "      quickchartButtonEl.classList.remove('colab-df-spinner');\n",
              "      quickchartButtonEl.classList.add('colab-df-quickchart-complete');\n",
              "    }\n",
              "    (() => {\n",
              "      let quickchartButtonEl =\n",
              "        document.querySelector('#df-a2deded1-c2d6-49fe-a1c9-0421d7fe40a3 button');\n",
              "      quickchartButtonEl.style.display =\n",
              "        google.colab.kernel.accessAllowed ? 'block' : 'none';\n",
              "    })();\n",
              "  </script>\n",
              "</div>\n",
              "    </div>\n",
              "  </div>\n"
            ]
          },
          "metadata": {},
          "execution_count": 21
        }
      ],
      "source": [
        "tit.head(3)"
      ]
    },
    {
      "cell_type": "markdown",
      "metadata": {
        "id": "eO18IUxf1TVN"
      },
      "source": [
        "# Dividing data into features and labels"
      ]
    },
    {
      "cell_type": "code",
      "execution_count": 22,
      "metadata": {
        "id": "s6XPaJ9wxbSa"
      },
      "outputs": [],
      "source": [
        "feature_columns = ['PassengerId','Pclass','Sex', 'Age', 'Parch','Fare','Embarked']\n",
        "X = tit[feature_columns].values\n",
        "y = tit['Survived'].values"
      ]
    },
    {
      "cell_type": "markdown",
      "metadata": {
        "id": "atrfEjl-1W2T"
      },
      "source": [
        "# Spliting dataset into training set and test set"
      ]
    },
    {
      "cell_type": "code",
      "execution_count": 23,
      "metadata": {
        "id": "VjSuZdJu1j2z"
      },
      "outputs": [],
      "source": [
        "from sklearn.model_selection import train_test_split\n",
        "X_train,X_test,y_train,y_test=train_test_split(X,y,test_size=0.3,random_state=44)"
      ]
    },
    {
      "cell_type": "code",
      "execution_count": 24,
      "metadata": {
        "colab": {
          "base_uri": "https://localhost:8080/"
        },
        "id": "XfwCNH1V1yyY",
        "outputId": "af5d373a-c23d-42af-d134-e7fc7f707aa2"
      },
      "outputs": [
        {
          "output_type": "execute_result",
          "data": {
            "text/plain": [
              "((623, 7), (268, 7))"
            ]
          },
          "metadata": {},
          "execution_count": 24
        }
      ],
      "source": [
        "# check the shape of X_train and X_test\n",
        "\n",
        "X_train.shape, X_test.shape"
      ]
    },
    {
      "cell_type": "markdown",
      "metadata": {
        "id": "l6i9p5woZhpa"
      },
      "source": [
        "# Fit the model"
      ]
    },
    {
      "cell_type": "code",
      "execution_count": null,
      "metadata": {
        "id": "Y-bIDbmeZt9I"
      },
      "outputs": [],
      "source": [
        "# Fitting clasifier to the Training set\n",
        "from sklearn.neighbors import KNeighborsClassifier\n",
        "\n",
        "# Instantiate learning model (k = 3)\n",
        "classifier = KNeighborsClassifier(n_neighbors=3)\n",
        "\n",
        "# Fitting the model\n",
        "classifier.fit(X_train, y_train)"
      ]
    },
    {
      "cell_type": "markdown",
      "metadata": {
        "id": "oV9T97TQaT6e"
      },
      "source": [
        "# Testing the KNN algorithm on the Testing Data\n",
        "```\n",
        "\n"
      ]
    },
    {
      "cell_type": "code",
      "execution_count": 26,
      "metadata": {
        "id": "ZV-4UYKkaUWz"
      },
      "outputs": [],
      "source": [
        "# Predicting the Test set results\n",
        "y_pred = classifier.predict(X_test)"
      ]
    },
    {
      "cell_type": "markdown",
      "metadata": {
        "id": "Wtyowq1mapdU"
      },
      "source": [
        "# Evaluate the model"
      ]
    },
    {
      "cell_type": "code",
      "execution_count": 27,
      "metadata": {
        "colab": {
          "base_uri": "https://localhost:8080/"
        },
        "id": "QvOkbyC1a2Nf",
        "outputId": "3706a153-2f57-4b1c-e66a-4b9d1527bdb6"
      },
      "outputs": [
        {
          "output_type": "stream",
          "name": "stdout",
          "text": [
            "Accuracy of our model is equal 60.45 %.\n"
          ]
        }
      ],
      "source": [
        "from sklearn.metrics import accuracy_score\n",
        "\n",
        "# checking accuracy\n",
        "accuracy = accuracy_score(y_test, y_pred)*100\n",
        "print('Accuracy of our model is equal ' + str(round(accuracy, 2)) + ' %.')"
      ]
    },
    {
      "cell_type": "markdown",
      "metadata": {
        "id": "3-DdMowGcDcL"
      },
      "source": [
        "# SVM(support vector machine) Algorithm\n"
      ]
    },
    {
      "cell_type": "code",
      "execution_count": 28,
      "metadata": {
        "id": "TZiWT16jcEVJ"
      },
      "outputs": [],
      "source": [
        "#Create the SVM model\n",
        "from sklearn.svm import SVC\n",
        "classifier = SVC(kernel = 'linear', random_state = 0)\n",
        "#Fit the model for the data\n",
        "\n",
        "classifier.fit(X_train, y_train)\n",
        "\n",
        "#Make the prediction\n",
        "y_pred = classifier.predict(X_test)"
      ]
    },
    {
      "cell_type": "code",
      "source": [
        "#display accuracy\n",
        "print(accuracy_score(y_test,y_pred)*100)"
      ],
      "metadata": {
        "colab": {
          "base_uri": "https://localhost:8080/"
        },
        "id": "1bDlwtf_f3S_",
        "outputId": "ea84cd62-d560-40c1-ff71-efb40ed953cf"
      },
      "execution_count": 51,
      "outputs": [
        {
          "output_type": "stream",
          "name": "stdout",
          "text": [
            "76.49253731343283\n"
          ]
        }
      ]
    },
    {
      "cell_type": "markdown",
      "source": [
        "# Linear Regression"
      ],
      "metadata": {
        "id": "CA7py2DeI5FX"
      }
    },
    {
      "cell_type": "code",
      "source": [
        "from sklearn.linear_model import LogisticRegression\n",
        "# create a linear regression model\n",
        "LR_model =LogisticRegression()\n",
        "# Fit the model\n",
        "LR_model =LR_model.fit(X_train,y_train)\n",
        "score_LR=LR_model.score(X_test,y_test)\n"
      ],
      "metadata": {
        "id": "cRCWYPUbJDqp"
      },
      "execution_count": null,
      "outputs": []
    },
    {
      "cell_type": "code",
      "source": [
        "# Accuracy of LR\n",
        "score_LR"
      ],
      "metadata": {
        "colab": {
          "base_uri": "https://localhost:8080/"
        },
        "id": "dQkoMbMgkDKV",
        "outputId": "6919165d-4580-4f1d-f72f-1115ab2a88a8"
      },
      "execution_count": 59,
      "outputs": [
        {
          "output_type": "execute_result",
          "data": {
            "text/plain": [
              "0.7649253731343284"
            ]
          },
          "metadata": {},
          "execution_count": 59
        }
      ]
    },
    {
      "cell_type": "markdown",
      "source": [
        "# K-Fold cross validation"
      ],
      "metadata": {
        "id": "f6HHSoFq_yUD"
      }
    },
    {
      "cell_type": "code",
      "source": [
        "# Lets split the data into 10 folds.\n",
        "# We will use this 'kfold_validator'(KFold splitting stratergy) object as input to cross_val_score() method\n",
        "\n",
        "from sklearn.model_selection import KFold\n",
        "kfold_validator =KFold(10)\n",
        "\n",
        "# split()  method generate indices to split data into training and test set.\n",
        "for train_index,test_index in kfold_validator.split(X,y):\n",
        "  print('Training Index: ',train_index)\n",
        "  print('Testing Index: ',test_index)\n"
      ],
      "metadata": {
        "colab": {
          "base_uri": "https://localhost:8080/"
        },
        "id": "8ClvAYpf_6eI",
        "outputId": "60df4ec3-c65d-4176-d7ee-c15d02fac207"
      },
      "execution_count": 33,
      "outputs": [
        {
          "output_type": "stream",
          "name": "stdout",
          "text": [
            "Training Index:  [ 90  91  92  93  94  95  96  97  98  99 100 101 102 103 104 105 106 107\n",
            " 108 109 110 111 112 113 114 115 116 117 118 119 120 121 122 123 124 125\n",
            " 126 127 128 129 130 131 132 133 134 135 136 137 138 139 140 141 142 143\n",
            " 144 145 146 147 148 149 150 151 152 153 154 155 156 157 158 159 160 161\n",
            " 162 163 164 165 166 167 168 169 170 171 172 173 174 175 176 177 178 179\n",
            " 180 181 182 183 184 185 186 187 188 189 190 191 192 193 194 195 196 197\n",
            " 198 199 200 201 202 203 204 205 206 207 208 209 210 211 212 213 214 215\n",
            " 216 217 218 219 220 221 222 223 224 225 226 227 228 229 230 231 232 233\n",
            " 234 235 236 237 238 239 240 241 242 243 244 245 246 247 248 249 250 251\n",
            " 252 253 254 255 256 257 258 259 260 261 262 263 264 265 266 267 268 269\n",
            " 270 271 272 273 274 275 276 277 278 279 280 281 282 283 284 285 286 287\n",
            " 288 289 290 291 292 293 294 295 296 297 298 299 300 301 302 303 304 305\n",
            " 306 307 308 309 310 311 312 313 314 315 316 317 318 319 320 321 322 323\n",
            " 324 325 326 327 328 329 330 331 332 333 334 335 336 337 338 339 340 341\n",
            " 342 343 344 345 346 347 348 349 350 351 352 353 354 355 356 357 358 359\n",
            " 360 361 362 363 364 365 366 367 368 369 370 371 372 373 374 375 376 377\n",
            " 378 379 380 381 382 383 384 385 386 387 388 389 390 391 392 393 394 395\n",
            " 396 397 398 399 400 401 402 403 404 405 406 407 408 409 410 411 412 413\n",
            " 414 415 416 417 418 419 420 421 422 423 424 425 426 427 428 429 430 431\n",
            " 432 433 434 435 436 437 438 439 440 441 442 443 444 445 446 447 448 449\n",
            " 450 451 452 453 454 455 456 457 458 459 460 461 462 463 464 465 466 467\n",
            " 468 469 470 471 472 473 474 475 476 477 478 479 480 481 482 483 484 485\n",
            " 486 487 488 489 490 491 492 493 494 495 496 497 498 499 500 501 502 503\n",
            " 504 505 506 507 508 509 510 511 512 513 514 515 516 517 518 519 520 521\n",
            " 522 523 524 525 526 527 528 529 530 531 532 533 534 535 536 537 538 539\n",
            " 540 541 542 543 544 545 546 547 548 549 550 551 552 553 554 555 556 557\n",
            " 558 559 560 561 562 563 564 565 566 567 568 569 570 571 572 573 574 575\n",
            " 576 577 578 579 580 581 582 583 584 585 586 587 588 589 590 591 592 593\n",
            " 594 595 596 597 598 599 600 601 602 603 604 605 606 607 608 609 610 611\n",
            " 612 613 614 615 616 617 618 619 620 621 622 623 624 625 626 627 628 629\n",
            " 630 631 632 633 634 635 636 637 638 639 640 641 642 643 644 645 646 647\n",
            " 648 649 650 651 652 653 654 655 656 657 658 659 660 661 662 663 664 665\n",
            " 666 667 668 669 670 671 672 673 674 675 676 677 678 679 680 681 682 683\n",
            " 684 685 686 687 688 689 690 691 692 693 694 695 696 697 698 699 700 701\n",
            " 702 703 704 705 706 707 708 709 710 711 712 713 714 715 716 717 718 719\n",
            " 720 721 722 723 724 725 726 727 728 729 730 731 732 733 734 735 736 737\n",
            " 738 739 740 741 742 743 744 745 746 747 748 749 750 751 752 753 754 755\n",
            " 756 757 758 759 760 761 762 763 764 765 766 767 768 769 770 771 772 773\n",
            " 774 775 776 777 778 779 780 781 782 783 784 785 786 787 788 789 790 791\n",
            " 792 793 794 795 796 797 798 799 800 801 802 803 804 805 806 807 808 809\n",
            " 810 811 812 813 814 815 816 817 818 819 820 821 822 823 824 825 826 827\n",
            " 828 829 830 831 832 833 834 835 836 837 838 839 840 841 842 843 844 845\n",
            " 846 847 848 849 850 851 852 853 854 855 856 857 858 859 860 861 862 863\n",
            " 864 865 866 867 868 869 870 871 872 873 874 875 876 877 878 879 880 881\n",
            " 882 883 884 885 886 887 888 889 890]\n",
            "Testing Index:  [ 0  1  2  3  4  5  6  7  8  9 10 11 12 13 14 15 16 17 18 19 20 21 22 23\n",
            " 24 25 26 27 28 29 30 31 32 33 34 35 36 37 38 39 40 41 42 43 44 45 46 47\n",
            " 48 49 50 51 52 53 54 55 56 57 58 59 60 61 62 63 64 65 66 67 68 69 70 71\n",
            " 72 73 74 75 76 77 78 79 80 81 82 83 84 85 86 87 88 89]\n",
            "Training Index:  [  0   1   2   3   4   5   6   7   8   9  10  11  12  13  14  15  16  17\n",
            "  18  19  20  21  22  23  24  25  26  27  28  29  30  31  32  33  34  35\n",
            "  36  37  38  39  40  41  42  43  44  45  46  47  48  49  50  51  52  53\n",
            "  54  55  56  57  58  59  60  61  62  63  64  65  66  67  68  69  70  71\n",
            "  72  73  74  75  76  77  78  79  80  81  82  83  84  85  86  87  88  89\n",
            " 179 180 181 182 183 184 185 186 187 188 189 190 191 192 193 194 195 196\n",
            " 197 198 199 200 201 202 203 204 205 206 207 208 209 210 211 212 213 214\n",
            " 215 216 217 218 219 220 221 222 223 224 225 226 227 228 229 230 231 232\n",
            " 233 234 235 236 237 238 239 240 241 242 243 244 245 246 247 248 249 250\n",
            " 251 252 253 254 255 256 257 258 259 260 261 262 263 264 265 266 267 268\n",
            " 269 270 271 272 273 274 275 276 277 278 279 280 281 282 283 284 285 286\n",
            " 287 288 289 290 291 292 293 294 295 296 297 298 299 300 301 302 303 304\n",
            " 305 306 307 308 309 310 311 312 313 314 315 316 317 318 319 320 321 322\n",
            " 323 324 325 326 327 328 329 330 331 332 333 334 335 336 337 338 339 340\n",
            " 341 342 343 344 345 346 347 348 349 350 351 352 353 354 355 356 357 358\n",
            " 359 360 361 362 363 364 365 366 367 368 369 370 371 372 373 374 375 376\n",
            " 377 378 379 380 381 382 383 384 385 386 387 388 389 390 391 392 393 394\n",
            " 395 396 397 398 399 400 401 402 403 404 405 406 407 408 409 410 411 412\n",
            " 413 414 415 416 417 418 419 420 421 422 423 424 425 426 427 428 429 430\n",
            " 431 432 433 434 435 436 437 438 439 440 441 442 443 444 445 446 447 448\n",
            " 449 450 451 452 453 454 455 456 457 458 459 460 461 462 463 464 465 466\n",
            " 467 468 469 470 471 472 473 474 475 476 477 478 479 480 481 482 483 484\n",
            " 485 486 487 488 489 490 491 492 493 494 495 496 497 498 499 500 501 502\n",
            " 503 504 505 506 507 508 509 510 511 512 513 514 515 516 517 518 519 520\n",
            " 521 522 523 524 525 526 527 528 529 530 531 532 533 534 535 536 537 538\n",
            " 539 540 541 542 543 544 545 546 547 548 549 550 551 552 553 554 555 556\n",
            " 557 558 559 560 561 562 563 564 565 566 567 568 569 570 571 572 573 574\n",
            " 575 576 577 578 579 580 581 582 583 584 585 586 587 588 589 590 591 592\n",
            " 593 594 595 596 597 598 599 600 601 602 603 604 605 606 607 608 609 610\n",
            " 611 612 613 614 615 616 617 618 619 620 621 622 623 624 625 626 627 628\n",
            " 629 630 631 632 633 634 635 636 637 638 639 640 641 642 643 644 645 646\n",
            " 647 648 649 650 651 652 653 654 655 656 657 658 659 660 661 662 663 664\n",
            " 665 666 667 668 669 670 671 672 673 674 675 676 677 678 679 680 681 682\n",
            " 683 684 685 686 687 688 689 690 691 692 693 694 695 696 697 698 699 700\n",
            " 701 702 703 704 705 706 707 708 709 710 711 712 713 714 715 716 717 718\n",
            " 719 720 721 722 723 724 725 726 727 728 729 730 731 732 733 734 735 736\n",
            " 737 738 739 740 741 742 743 744 745 746 747 748 749 750 751 752 753 754\n",
            " 755 756 757 758 759 760 761 762 763 764 765 766 767 768 769 770 771 772\n",
            " 773 774 775 776 777 778 779 780 781 782 783 784 785 786 787 788 789 790\n",
            " 791 792 793 794 795 796 797 798 799 800 801 802 803 804 805 806 807 808\n",
            " 809 810 811 812 813 814 815 816 817 818 819 820 821 822 823 824 825 826\n",
            " 827 828 829 830 831 832 833 834 835 836 837 838 839 840 841 842 843 844\n",
            " 845 846 847 848 849 850 851 852 853 854 855 856 857 858 859 860 861 862\n",
            " 863 864 865 866 867 868 869 870 871 872 873 874 875 876 877 878 879 880\n",
            " 881 882 883 884 885 886 887 888 889 890]\n",
            "Testing Index:  [ 90  91  92  93  94  95  96  97  98  99 100 101 102 103 104 105 106 107\n",
            " 108 109 110 111 112 113 114 115 116 117 118 119 120 121 122 123 124 125\n",
            " 126 127 128 129 130 131 132 133 134 135 136 137 138 139 140 141 142 143\n",
            " 144 145 146 147 148 149 150 151 152 153 154 155 156 157 158 159 160 161\n",
            " 162 163 164 165 166 167 168 169 170 171 172 173 174 175 176 177 178]\n",
            "Training Index:  [  0   1   2   3   4   5   6   7   8   9  10  11  12  13  14  15  16  17\n",
            "  18  19  20  21  22  23  24  25  26  27  28  29  30  31  32  33  34  35\n",
            "  36  37  38  39  40  41  42  43  44  45  46  47  48  49  50  51  52  53\n",
            "  54  55  56  57  58  59  60  61  62  63  64  65  66  67  68  69  70  71\n",
            "  72  73  74  75  76  77  78  79  80  81  82  83  84  85  86  87  88  89\n",
            "  90  91  92  93  94  95  96  97  98  99 100 101 102 103 104 105 106 107\n",
            " 108 109 110 111 112 113 114 115 116 117 118 119 120 121 122 123 124 125\n",
            " 126 127 128 129 130 131 132 133 134 135 136 137 138 139 140 141 142 143\n",
            " 144 145 146 147 148 149 150 151 152 153 154 155 156 157 158 159 160 161\n",
            " 162 163 164 165 166 167 168 169 170 171 172 173 174 175 176 177 178 268\n",
            " 269 270 271 272 273 274 275 276 277 278 279 280 281 282 283 284 285 286\n",
            " 287 288 289 290 291 292 293 294 295 296 297 298 299 300 301 302 303 304\n",
            " 305 306 307 308 309 310 311 312 313 314 315 316 317 318 319 320 321 322\n",
            " 323 324 325 326 327 328 329 330 331 332 333 334 335 336 337 338 339 340\n",
            " 341 342 343 344 345 346 347 348 349 350 351 352 353 354 355 356 357 358\n",
            " 359 360 361 362 363 364 365 366 367 368 369 370 371 372 373 374 375 376\n",
            " 377 378 379 380 381 382 383 384 385 386 387 388 389 390 391 392 393 394\n",
            " 395 396 397 398 399 400 401 402 403 404 405 406 407 408 409 410 411 412\n",
            " 413 414 415 416 417 418 419 420 421 422 423 424 425 426 427 428 429 430\n",
            " 431 432 433 434 435 436 437 438 439 440 441 442 443 444 445 446 447 448\n",
            " 449 450 451 452 453 454 455 456 457 458 459 460 461 462 463 464 465 466\n",
            " 467 468 469 470 471 472 473 474 475 476 477 478 479 480 481 482 483 484\n",
            " 485 486 487 488 489 490 491 492 493 494 495 496 497 498 499 500 501 502\n",
            " 503 504 505 506 507 508 509 510 511 512 513 514 515 516 517 518 519 520\n",
            " 521 522 523 524 525 526 527 528 529 530 531 532 533 534 535 536 537 538\n",
            " 539 540 541 542 543 544 545 546 547 548 549 550 551 552 553 554 555 556\n",
            " 557 558 559 560 561 562 563 564 565 566 567 568 569 570 571 572 573 574\n",
            " 575 576 577 578 579 580 581 582 583 584 585 586 587 588 589 590 591 592\n",
            " 593 594 595 596 597 598 599 600 601 602 603 604 605 606 607 608 609 610\n",
            " 611 612 613 614 615 616 617 618 619 620 621 622 623 624 625 626 627 628\n",
            " 629 630 631 632 633 634 635 636 637 638 639 640 641 642 643 644 645 646\n",
            " 647 648 649 650 651 652 653 654 655 656 657 658 659 660 661 662 663 664\n",
            " 665 666 667 668 669 670 671 672 673 674 675 676 677 678 679 680 681 682\n",
            " 683 684 685 686 687 688 689 690 691 692 693 694 695 696 697 698 699 700\n",
            " 701 702 703 704 705 706 707 708 709 710 711 712 713 714 715 716 717 718\n",
            " 719 720 721 722 723 724 725 726 727 728 729 730 731 732 733 734 735 736\n",
            " 737 738 739 740 741 742 743 744 745 746 747 748 749 750 751 752 753 754\n",
            " 755 756 757 758 759 760 761 762 763 764 765 766 767 768 769 770 771 772\n",
            " 773 774 775 776 777 778 779 780 781 782 783 784 785 786 787 788 789 790\n",
            " 791 792 793 794 795 796 797 798 799 800 801 802 803 804 805 806 807 808\n",
            " 809 810 811 812 813 814 815 816 817 818 819 820 821 822 823 824 825 826\n",
            " 827 828 829 830 831 832 833 834 835 836 837 838 839 840 841 842 843 844\n",
            " 845 846 847 848 849 850 851 852 853 854 855 856 857 858 859 860 861 862\n",
            " 863 864 865 866 867 868 869 870 871 872 873 874 875 876 877 878 879 880\n",
            " 881 882 883 884 885 886 887 888 889 890]\n",
            "Testing Index:  [179 180 181 182 183 184 185 186 187 188 189 190 191 192 193 194 195 196\n",
            " 197 198 199 200 201 202 203 204 205 206 207 208 209 210 211 212 213 214\n",
            " 215 216 217 218 219 220 221 222 223 224 225 226 227 228 229 230 231 232\n",
            " 233 234 235 236 237 238 239 240 241 242 243 244 245 246 247 248 249 250\n",
            " 251 252 253 254 255 256 257 258 259 260 261 262 263 264 265 266 267]\n",
            "Training Index:  [  0   1   2   3   4   5   6   7   8   9  10  11  12  13  14  15  16  17\n",
            "  18  19  20  21  22  23  24  25  26  27  28  29  30  31  32  33  34  35\n",
            "  36  37  38  39  40  41  42  43  44  45  46  47  48  49  50  51  52  53\n",
            "  54  55  56  57  58  59  60  61  62  63  64  65  66  67  68  69  70  71\n",
            "  72  73  74  75  76  77  78  79  80  81  82  83  84  85  86  87  88  89\n",
            "  90  91  92  93  94  95  96  97  98  99 100 101 102 103 104 105 106 107\n",
            " 108 109 110 111 112 113 114 115 116 117 118 119 120 121 122 123 124 125\n",
            " 126 127 128 129 130 131 132 133 134 135 136 137 138 139 140 141 142 143\n",
            " 144 145 146 147 148 149 150 151 152 153 154 155 156 157 158 159 160 161\n",
            " 162 163 164 165 166 167 168 169 170 171 172 173 174 175 176 177 178 179\n",
            " 180 181 182 183 184 185 186 187 188 189 190 191 192 193 194 195 196 197\n",
            " 198 199 200 201 202 203 204 205 206 207 208 209 210 211 212 213 214 215\n",
            " 216 217 218 219 220 221 222 223 224 225 226 227 228 229 230 231 232 233\n",
            " 234 235 236 237 238 239 240 241 242 243 244 245 246 247 248 249 250 251\n",
            " 252 253 254 255 256 257 258 259 260 261 262 263 264 265 266 267 357 358\n",
            " 359 360 361 362 363 364 365 366 367 368 369 370 371 372 373 374 375 376\n",
            " 377 378 379 380 381 382 383 384 385 386 387 388 389 390 391 392 393 394\n",
            " 395 396 397 398 399 400 401 402 403 404 405 406 407 408 409 410 411 412\n",
            " 413 414 415 416 417 418 419 420 421 422 423 424 425 426 427 428 429 430\n",
            " 431 432 433 434 435 436 437 438 439 440 441 442 443 444 445 446 447 448\n",
            " 449 450 451 452 453 454 455 456 457 458 459 460 461 462 463 464 465 466\n",
            " 467 468 469 470 471 472 473 474 475 476 477 478 479 480 481 482 483 484\n",
            " 485 486 487 488 489 490 491 492 493 494 495 496 497 498 499 500 501 502\n",
            " 503 504 505 506 507 508 509 510 511 512 513 514 515 516 517 518 519 520\n",
            " 521 522 523 524 525 526 527 528 529 530 531 532 533 534 535 536 537 538\n",
            " 539 540 541 542 543 544 545 546 547 548 549 550 551 552 553 554 555 556\n",
            " 557 558 559 560 561 562 563 564 565 566 567 568 569 570 571 572 573 574\n",
            " 575 576 577 578 579 580 581 582 583 584 585 586 587 588 589 590 591 592\n",
            " 593 594 595 596 597 598 599 600 601 602 603 604 605 606 607 608 609 610\n",
            " 611 612 613 614 615 616 617 618 619 620 621 622 623 624 625 626 627 628\n",
            " 629 630 631 632 633 634 635 636 637 638 639 640 641 642 643 644 645 646\n",
            " 647 648 649 650 651 652 653 654 655 656 657 658 659 660 661 662 663 664\n",
            " 665 666 667 668 669 670 671 672 673 674 675 676 677 678 679 680 681 682\n",
            " 683 684 685 686 687 688 689 690 691 692 693 694 695 696 697 698 699 700\n",
            " 701 702 703 704 705 706 707 708 709 710 711 712 713 714 715 716 717 718\n",
            " 719 720 721 722 723 724 725 726 727 728 729 730 731 732 733 734 735 736\n",
            " 737 738 739 740 741 742 743 744 745 746 747 748 749 750 751 752 753 754\n",
            " 755 756 757 758 759 760 761 762 763 764 765 766 767 768 769 770 771 772\n",
            " 773 774 775 776 777 778 779 780 781 782 783 784 785 786 787 788 789 790\n",
            " 791 792 793 794 795 796 797 798 799 800 801 802 803 804 805 806 807 808\n",
            " 809 810 811 812 813 814 815 816 817 818 819 820 821 822 823 824 825 826\n",
            " 827 828 829 830 831 832 833 834 835 836 837 838 839 840 841 842 843 844\n",
            " 845 846 847 848 849 850 851 852 853 854 855 856 857 858 859 860 861 862\n",
            " 863 864 865 866 867 868 869 870 871 872 873 874 875 876 877 878 879 880\n",
            " 881 882 883 884 885 886 887 888 889 890]\n",
            "Testing Index:  [268 269 270 271 272 273 274 275 276 277 278 279 280 281 282 283 284 285\n",
            " 286 287 288 289 290 291 292 293 294 295 296 297 298 299 300 301 302 303\n",
            " 304 305 306 307 308 309 310 311 312 313 314 315 316 317 318 319 320 321\n",
            " 322 323 324 325 326 327 328 329 330 331 332 333 334 335 336 337 338 339\n",
            " 340 341 342 343 344 345 346 347 348 349 350 351 352 353 354 355 356]\n",
            "Training Index:  [  0   1   2   3   4   5   6   7   8   9  10  11  12  13  14  15  16  17\n",
            "  18  19  20  21  22  23  24  25  26  27  28  29  30  31  32  33  34  35\n",
            "  36  37  38  39  40  41  42  43  44  45  46  47  48  49  50  51  52  53\n",
            "  54  55  56  57  58  59  60  61  62  63  64  65  66  67  68  69  70  71\n",
            "  72  73  74  75  76  77  78  79  80  81  82  83  84  85  86  87  88  89\n",
            "  90  91  92  93  94  95  96  97  98  99 100 101 102 103 104 105 106 107\n",
            " 108 109 110 111 112 113 114 115 116 117 118 119 120 121 122 123 124 125\n",
            " 126 127 128 129 130 131 132 133 134 135 136 137 138 139 140 141 142 143\n",
            " 144 145 146 147 148 149 150 151 152 153 154 155 156 157 158 159 160 161\n",
            " 162 163 164 165 166 167 168 169 170 171 172 173 174 175 176 177 178 179\n",
            " 180 181 182 183 184 185 186 187 188 189 190 191 192 193 194 195 196 197\n",
            " 198 199 200 201 202 203 204 205 206 207 208 209 210 211 212 213 214 215\n",
            " 216 217 218 219 220 221 222 223 224 225 226 227 228 229 230 231 232 233\n",
            " 234 235 236 237 238 239 240 241 242 243 244 245 246 247 248 249 250 251\n",
            " 252 253 254 255 256 257 258 259 260 261 262 263 264 265 266 267 268 269\n",
            " 270 271 272 273 274 275 276 277 278 279 280 281 282 283 284 285 286 287\n",
            " 288 289 290 291 292 293 294 295 296 297 298 299 300 301 302 303 304 305\n",
            " 306 307 308 309 310 311 312 313 314 315 316 317 318 319 320 321 322 323\n",
            " 324 325 326 327 328 329 330 331 332 333 334 335 336 337 338 339 340 341\n",
            " 342 343 344 345 346 347 348 349 350 351 352 353 354 355 356 446 447 448\n",
            " 449 450 451 452 453 454 455 456 457 458 459 460 461 462 463 464 465 466\n",
            " 467 468 469 470 471 472 473 474 475 476 477 478 479 480 481 482 483 484\n",
            " 485 486 487 488 489 490 491 492 493 494 495 496 497 498 499 500 501 502\n",
            " 503 504 505 506 507 508 509 510 511 512 513 514 515 516 517 518 519 520\n",
            " 521 522 523 524 525 526 527 528 529 530 531 532 533 534 535 536 537 538\n",
            " 539 540 541 542 543 544 545 546 547 548 549 550 551 552 553 554 555 556\n",
            " 557 558 559 560 561 562 563 564 565 566 567 568 569 570 571 572 573 574\n",
            " 575 576 577 578 579 580 581 582 583 584 585 586 587 588 589 590 591 592\n",
            " 593 594 595 596 597 598 599 600 601 602 603 604 605 606 607 608 609 610\n",
            " 611 612 613 614 615 616 617 618 619 620 621 622 623 624 625 626 627 628\n",
            " 629 630 631 632 633 634 635 636 637 638 639 640 641 642 643 644 645 646\n",
            " 647 648 649 650 651 652 653 654 655 656 657 658 659 660 661 662 663 664\n",
            " 665 666 667 668 669 670 671 672 673 674 675 676 677 678 679 680 681 682\n",
            " 683 684 685 686 687 688 689 690 691 692 693 694 695 696 697 698 699 700\n",
            " 701 702 703 704 705 706 707 708 709 710 711 712 713 714 715 716 717 718\n",
            " 719 720 721 722 723 724 725 726 727 728 729 730 731 732 733 734 735 736\n",
            " 737 738 739 740 741 742 743 744 745 746 747 748 749 750 751 752 753 754\n",
            " 755 756 757 758 759 760 761 762 763 764 765 766 767 768 769 770 771 772\n",
            " 773 774 775 776 777 778 779 780 781 782 783 784 785 786 787 788 789 790\n",
            " 791 792 793 794 795 796 797 798 799 800 801 802 803 804 805 806 807 808\n",
            " 809 810 811 812 813 814 815 816 817 818 819 820 821 822 823 824 825 826\n",
            " 827 828 829 830 831 832 833 834 835 836 837 838 839 840 841 842 843 844\n",
            " 845 846 847 848 849 850 851 852 853 854 855 856 857 858 859 860 861 862\n",
            " 863 864 865 866 867 868 869 870 871 872 873 874 875 876 877 878 879 880\n",
            " 881 882 883 884 885 886 887 888 889 890]\n",
            "Testing Index:  [357 358 359 360 361 362 363 364 365 366 367 368 369 370 371 372 373 374\n",
            " 375 376 377 378 379 380 381 382 383 384 385 386 387 388 389 390 391 392\n",
            " 393 394 395 396 397 398 399 400 401 402 403 404 405 406 407 408 409 410\n",
            " 411 412 413 414 415 416 417 418 419 420 421 422 423 424 425 426 427 428\n",
            " 429 430 431 432 433 434 435 436 437 438 439 440 441 442 443 444 445]\n",
            "Training Index:  [  0   1   2   3   4   5   6   7   8   9  10  11  12  13  14  15  16  17\n",
            "  18  19  20  21  22  23  24  25  26  27  28  29  30  31  32  33  34  35\n",
            "  36  37  38  39  40  41  42  43  44  45  46  47  48  49  50  51  52  53\n",
            "  54  55  56  57  58  59  60  61  62  63  64  65  66  67  68  69  70  71\n",
            "  72  73  74  75  76  77  78  79  80  81  82  83  84  85  86  87  88  89\n",
            "  90  91  92  93  94  95  96  97  98  99 100 101 102 103 104 105 106 107\n",
            " 108 109 110 111 112 113 114 115 116 117 118 119 120 121 122 123 124 125\n",
            " 126 127 128 129 130 131 132 133 134 135 136 137 138 139 140 141 142 143\n",
            " 144 145 146 147 148 149 150 151 152 153 154 155 156 157 158 159 160 161\n",
            " 162 163 164 165 166 167 168 169 170 171 172 173 174 175 176 177 178 179\n",
            " 180 181 182 183 184 185 186 187 188 189 190 191 192 193 194 195 196 197\n",
            " 198 199 200 201 202 203 204 205 206 207 208 209 210 211 212 213 214 215\n",
            " 216 217 218 219 220 221 222 223 224 225 226 227 228 229 230 231 232 233\n",
            " 234 235 236 237 238 239 240 241 242 243 244 245 246 247 248 249 250 251\n",
            " 252 253 254 255 256 257 258 259 260 261 262 263 264 265 266 267 268 269\n",
            " 270 271 272 273 274 275 276 277 278 279 280 281 282 283 284 285 286 287\n",
            " 288 289 290 291 292 293 294 295 296 297 298 299 300 301 302 303 304 305\n",
            " 306 307 308 309 310 311 312 313 314 315 316 317 318 319 320 321 322 323\n",
            " 324 325 326 327 328 329 330 331 332 333 334 335 336 337 338 339 340 341\n",
            " 342 343 344 345 346 347 348 349 350 351 352 353 354 355 356 357 358 359\n",
            " 360 361 362 363 364 365 366 367 368 369 370 371 372 373 374 375 376 377\n",
            " 378 379 380 381 382 383 384 385 386 387 388 389 390 391 392 393 394 395\n",
            " 396 397 398 399 400 401 402 403 404 405 406 407 408 409 410 411 412 413\n",
            " 414 415 416 417 418 419 420 421 422 423 424 425 426 427 428 429 430 431\n",
            " 432 433 434 435 436 437 438 439 440 441 442 443 444 445 535 536 537 538\n",
            " 539 540 541 542 543 544 545 546 547 548 549 550 551 552 553 554 555 556\n",
            " 557 558 559 560 561 562 563 564 565 566 567 568 569 570 571 572 573 574\n",
            " 575 576 577 578 579 580 581 582 583 584 585 586 587 588 589 590 591 592\n",
            " 593 594 595 596 597 598 599 600 601 602 603 604 605 606 607 608 609 610\n",
            " 611 612 613 614 615 616 617 618 619 620 621 622 623 624 625 626 627 628\n",
            " 629 630 631 632 633 634 635 636 637 638 639 640 641 642 643 644 645 646\n",
            " 647 648 649 650 651 652 653 654 655 656 657 658 659 660 661 662 663 664\n",
            " 665 666 667 668 669 670 671 672 673 674 675 676 677 678 679 680 681 682\n",
            " 683 684 685 686 687 688 689 690 691 692 693 694 695 696 697 698 699 700\n",
            " 701 702 703 704 705 706 707 708 709 710 711 712 713 714 715 716 717 718\n",
            " 719 720 721 722 723 724 725 726 727 728 729 730 731 732 733 734 735 736\n",
            " 737 738 739 740 741 742 743 744 745 746 747 748 749 750 751 752 753 754\n",
            " 755 756 757 758 759 760 761 762 763 764 765 766 767 768 769 770 771 772\n",
            " 773 774 775 776 777 778 779 780 781 782 783 784 785 786 787 788 789 790\n",
            " 791 792 793 794 795 796 797 798 799 800 801 802 803 804 805 806 807 808\n",
            " 809 810 811 812 813 814 815 816 817 818 819 820 821 822 823 824 825 826\n",
            " 827 828 829 830 831 832 833 834 835 836 837 838 839 840 841 842 843 844\n",
            " 845 846 847 848 849 850 851 852 853 854 855 856 857 858 859 860 861 862\n",
            " 863 864 865 866 867 868 869 870 871 872 873 874 875 876 877 878 879 880\n",
            " 881 882 883 884 885 886 887 888 889 890]\n",
            "Testing Index:  [446 447 448 449 450 451 452 453 454 455 456 457 458 459 460 461 462 463\n",
            " 464 465 466 467 468 469 470 471 472 473 474 475 476 477 478 479 480 481\n",
            " 482 483 484 485 486 487 488 489 490 491 492 493 494 495 496 497 498 499\n",
            " 500 501 502 503 504 505 506 507 508 509 510 511 512 513 514 515 516 517\n",
            " 518 519 520 521 522 523 524 525 526 527 528 529 530 531 532 533 534]\n",
            "Training Index:  [  0   1   2   3   4   5   6   7   8   9  10  11  12  13  14  15  16  17\n",
            "  18  19  20  21  22  23  24  25  26  27  28  29  30  31  32  33  34  35\n",
            "  36  37  38  39  40  41  42  43  44  45  46  47  48  49  50  51  52  53\n",
            "  54  55  56  57  58  59  60  61  62  63  64  65  66  67  68  69  70  71\n",
            "  72  73  74  75  76  77  78  79  80  81  82  83  84  85  86  87  88  89\n",
            "  90  91  92  93  94  95  96  97  98  99 100 101 102 103 104 105 106 107\n",
            " 108 109 110 111 112 113 114 115 116 117 118 119 120 121 122 123 124 125\n",
            " 126 127 128 129 130 131 132 133 134 135 136 137 138 139 140 141 142 143\n",
            " 144 145 146 147 148 149 150 151 152 153 154 155 156 157 158 159 160 161\n",
            " 162 163 164 165 166 167 168 169 170 171 172 173 174 175 176 177 178 179\n",
            " 180 181 182 183 184 185 186 187 188 189 190 191 192 193 194 195 196 197\n",
            " 198 199 200 201 202 203 204 205 206 207 208 209 210 211 212 213 214 215\n",
            " 216 217 218 219 220 221 222 223 224 225 226 227 228 229 230 231 232 233\n",
            " 234 235 236 237 238 239 240 241 242 243 244 245 246 247 248 249 250 251\n",
            " 252 253 254 255 256 257 258 259 260 261 262 263 264 265 266 267 268 269\n",
            " 270 271 272 273 274 275 276 277 278 279 280 281 282 283 284 285 286 287\n",
            " 288 289 290 291 292 293 294 295 296 297 298 299 300 301 302 303 304 305\n",
            " 306 307 308 309 310 311 312 313 314 315 316 317 318 319 320 321 322 323\n",
            " 324 325 326 327 328 329 330 331 332 333 334 335 336 337 338 339 340 341\n",
            " 342 343 344 345 346 347 348 349 350 351 352 353 354 355 356 357 358 359\n",
            " 360 361 362 363 364 365 366 367 368 369 370 371 372 373 374 375 376 377\n",
            " 378 379 380 381 382 383 384 385 386 387 388 389 390 391 392 393 394 395\n",
            " 396 397 398 399 400 401 402 403 404 405 406 407 408 409 410 411 412 413\n",
            " 414 415 416 417 418 419 420 421 422 423 424 425 426 427 428 429 430 431\n",
            " 432 433 434 435 436 437 438 439 440 441 442 443 444 445 446 447 448 449\n",
            " 450 451 452 453 454 455 456 457 458 459 460 461 462 463 464 465 466 467\n",
            " 468 469 470 471 472 473 474 475 476 477 478 479 480 481 482 483 484 485\n",
            " 486 487 488 489 490 491 492 493 494 495 496 497 498 499 500 501 502 503\n",
            " 504 505 506 507 508 509 510 511 512 513 514 515 516 517 518 519 520 521\n",
            " 522 523 524 525 526 527 528 529 530 531 532 533 534 624 625 626 627 628\n",
            " 629 630 631 632 633 634 635 636 637 638 639 640 641 642 643 644 645 646\n",
            " 647 648 649 650 651 652 653 654 655 656 657 658 659 660 661 662 663 664\n",
            " 665 666 667 668 669 670 671 672 673 674 675 676 677 678 679 680 681 682\n",
            " 683 684 685 686 687 688 689 690 691 692 693 694 695 696 697 698 699 700\n",
            " 701 702 703 704 705 706 707 708 709 710 711 712 713 714 715 716 717 718\n",
            " 719 720 721 722 723 724 725 726 727 728 729 730 731 732 733 734 735 736\n",
            " 737 738 739 740 741 742 743 744 745 746 747 748 749 750 751 752 753 754\n",
            " 755 756 757 758 759 760 761 762 763 764 765 766 767 768 769 770 771 772\n",
            " 773 774 775 776 777 778 779 780 781 782 783 784 785 786 787 788 789 790\n",
            " 791 792 793 794 795 796 797 798 799 800 801 802 803 804 805 806 807 808\n",
            " 809 810 811 812 813 814 815 816 817 818 819 820 821 822 823 824 825 826\n",
            " 827 828 829 830 831 832 833 834 835 836 837 838 839 840 841 842 843 844\n",
            " 845 846 847 848 849 850 851 852 853 854 855 856 857 858 859 860 861 862\n",
            " 863 864 865 866 867 868 869 870 871 872 873 874 875 876 877 878 879 880\n",
            " 881 882 883 884 885 886 887 888 889 890]\n",
            "Testing Index:  [535 536 537 538 539 540 541 542 543 544 545 546 547 548 549 550 551 552\n",
            " 553 554 555 556 557 558 559 560 561 562 563 564 565 566 567 568 569 570\n",
            " 571 572 573 574 575 576 577 578 579 580 581 582 583 584 585 586 587 588\n",
            " 589 590 591 592 593 594 595 596 597 598 599 600 601 602 603 604 605 606\n",
            " 607 608 609 610 611 612 613 614 615 616 617 618 619 620 621 622 623]\n",
            "Training Index:  [  0   1   2   3   4   5   6   7   8   9  10  11  12  13  14  15  16  17\n",
            "  18  19  20  21  22  23  24  25  26  27  28  29  30  31  32  33  34  35\n",
            "  36  37  38  39  40  41  42  43  44  45  46  47  48  49  50  51  52  53\n",
            "  54  55  56  57  58  59  60  61  62  63  64  65  66  67  68  69  70  71\n",
            "  72  73  74  75  76  77  78  79  80  81  82  83  84  85  86  87  88  89\n",
            "  90  91  92  93  94  95  96  97  98  99 100 101 102 103 104 105 106 107\n",
            " 108 109 110 111 112 113 114 115 116 117 118 119 120 121 122 123 124 125\n",
            " 126 127 128 129 130 131 132 133 134 135 136 137 138 139 140 141 142 143\n",
            " 144 145 146 147 148 149 150 151 152 153 154 155 156 157 158 159 160 161\n",
            " 162 163 164 165 166 167 168 169 170 171 172 173 174 175 176 177 178 179\n",
            " 180 181 182 183 184 185 186 187 188 189 190 191 192 193 194 195 196 197\n",
            " 198 199 200 201 202 203 204 205 206 207 208 209 210 211 212 213 214 215\n",
            " 216 217 218 219 220 221 222 223 224 225 226 227 228 229 230 231 232 233\n",
            " 234 235 236 237 238 239 240 241 242 243 244 245 246 247 248 249 250 251\n",
            " 252 253 254 255 256 257 258 259 260 261 262 263 264 265 266 267 268 269\n",
            " 270 271 272 273 274 275 276 277 278 279 280 281 282 283 284 285 286 287\n",
            " 288 289 290 291 292 293 294 295 296 297 298 299 300 301 302 303 304 305\n",
            " 306 307 308 309 310 311 312 313 314 315 316 317 318 319 320 321 322 323\n",
            " 324 325 326 327 328 329 330 331 332 333 334 335 336 337 338 339 340 341\n",
            " 342 343 344 345 346 347 348 349 350 351 352 353 354 355 356 357 358 359\n",
            " 360 361 362 363 364 365 366 367 368 369 370 371 372 373 374 375 376 377\n",
            " 378 379 380 381 382 383 384 385 386 387 388 389 390 391 392 393 394 395\n",
            " 396 397 398 399 400 401 402 403 404 405 406 407 408 409 410 411 412 413\n",
            " 414 415 416 417 418 419 420 421 422 423 424 425 426 427 428 429 430 431\n",
            " 432 433 434 435 436 437 438 439 440 441 442 443 444 445 446 447 448 449\n",
            " 450 451 452 453 454 455 456 457 458 459 460 461 462 463 464 465 466 467\n",
            " 468 469 470 471 472 473 474 475 476 477 478 479 480 481 482 483 484 485\n",
            " 486 487 488 489 490 491 492 493 494 495 496 497 498 499 500 501 502 503\n",
            " 504 505 506 507 508 509 510 511 512 513 514 515 516 517 518 519 520 521\n",
            " 522 523 524 525 526 527 528 529 530 531 532 533 534 535 536 537 538 539\n",
            " 540 541 542 543 544 545 546 547 548 549 550 551 552 553 554 555 556 557\n",
            " 558 559 560 561 562 563 564 565 566 567 568 569 570 571 572 573 574 575\n",
            " 576 577 578 579 580 581 582 583 584 585 586 587 588 589 590 591 592 593\n",
            " 594 595 596 597 598 599 600 601 602 603 604 605 606 607 608 609 610 611\n",
            " 612 613 614 615 616 617 618 619 620 621 622 623 713 714 715 716 717 718\n",
            " 719 720 721 722 723 724 725 726 727 728 729 730 731 732 733 734 735 736\n",
            " 737 738 739 740 741 742 743 744 745 746 747 748 749 750 751 752 753 754\n",
            " 755 756 757 758 759 760 761 762 763 764 765 766 767 768 769 770 771 772\n",
            " 773 774 775 776 777 778 779 780 781 782 783 784 785 786 787 788 789 790\n",
            " 791 792 793 794 795 796 797 798 799 800 801 802 803 804 805 806 807 808\n",
            " 809 810 811 812 813 814 815 816 817 818 819 820 821 822 823 824 825 826\n",
            " 827 828 829 830 831 832 833 834 835 836 837 838 839 840 841 842 843 844\n",
            " 845 846 847 848 849 850 851 852 853 854 855 856 857 858 859 860 861 862\n",
            " 863 864 865 866 867 868 869 870 871 872 873 874 875 876 877 878 879 880\n",
            " 881 882 883 884 885 886 887 888 889 890]\n",
            "Testing Index:  [624 625 626 627 628 629 630 631 632 633 634 635 636 637 638 639 640 641\n",
            " 642 643 644 645 646 647 648 649 650 651 652 653 654 655 656 657 658 659\n",
            " 660 661 662 663 664 665 666 667 668 669 670 671 672 673 674 675 676 677\n",
            " 678 679 680 681 682 683 684 685 686 687 688 689 690 691 692 693 694 695\n",
            " 696 697 698 699 700 701 702 703 704 705 706 707 708 709 710 711 712]\n",
            "Training Index:  [  0   1   2   3   4   5   6   7   8   9  10  11  12  13  14  15  16  17\n",
            "  18  19  20  21  22  23  24  25  26  27  28  29  30  31  32  33  34  35\n",
            "  36  37  38  39  40  41  42  43  44  45  46  47  48  49  50  51  52  53\n",
            "  54  55  56  57  58  59  60  61  62  63  64  65  66  67  68  69  70  71\n",
            "  72  73  74  75  76  77  78  79  80  81  82  83  84  85  86  87  88  89\n",
            "  90  91  92  93  94  95  96  97  98  99 100 101 102 103 104 105 106 107\n",
            " 108 109 110 111 112 113 114 115 116 117 118 119 120 121 122 123 124 125\n",
            " 126 127 128 129 130 131 132 133 134 135 136 137 138 139 140 141 142 143\n",
            " 144 145 146 147 148 149 150 151 152 153 154 155 156 157 158 159 160 161\n",
            " 162 163 164 165 166 167 168 169 170 171 172 173 174 175 176 177 178 179\n",
            " 180 181 182 183 184 185 186 187 188 189 190 191 192 193 194 195 196 197\n",
            " 198 199 200 201 202 203 204 205 206 207 208 209 210 211 212 213 214 215\n",
            " 216 217 218 219 220 221 222 223 224 225 226 227 228 229 230 231 232 233\n",
            " 234 235 236 237 238 239 240 241 242 243 244 245 246 247 248 249 250 251\n",
            " 252 253 254 255 256 257 258 259 260 261 262 263 264 265 266 267 268 269\n",
            " 270 271 272 273 274 275 276 277 278 279 280 281 282 283 284 285 286 287\n",
            " 288 289 290 291 292 293 294 295 296 297 298 299 300 301 302 303 304 305\n",
            " 306 307 308 309 310 311 312 313 314 315 316 317 318 319 320 321 322 323\n",
            " 324 325 326 327 328 329 330 331 332 333 334 335 336 337 338 339 340 341\n",
            " 342 343 344 345 346 347 348 349 350 351 352 353 354 355 356 357 358 359\n",
            " 360 361 362 363 364 365 366 367 368 369 370 371 372 373 374 375 376 377\n",
            " 378 379 380 381 382 383 384 385 386 387 388 389 390 391 392 393 394 395\n",
            " 396 397 398 399 400 401 402 403 404 405 406 407 408 409 410 411 412 413\n",
            " 414 415 416 417 418 419 420 421 422 423 424 425 426 427 428 429 430 431\n",
            " 432 433 434 435 436 437 438 439 440 441 442 443 444 445 446 447 448 449\n",
            " 450 451 452 453 454 455 456 457 458 459 460 461 462 463 464 465 466 467\n",
            " 468 469 470 471 472 473 474 475 476 477 478 479 480 481 482 483 484 485\n",
            " 486 487 488 489 490 491 492 493 494 495 496 497 498 499 500 501 502 503\n",
            " 504 505 506 507 508 509 510 511 512 513 514 515 516 517 518 519 520 521\n",
            " 522 523 524 525 526 527 528 529 530 531 532 533 534 535 536 537 538 539\n",
            " 540 541 542 543 544 545 546 547 548 549 550 551 552 553 554 555 556 557\n",
            " 558 559 560 561 562 563 564 565 566 567 568 569 570 571 572 573 574 575\n",
            " 576 577 578 579 580 581 582 583 584 585 586 587 588 589 590 591 592 593\n",
            " 594 595 596 597 598 599 600 601 602 603 604 605 606 607 608 609 610 611\n",
            " 612 613 614 615 616 617 618 619 620 621 622 623 624 625 626 627 628 629\n",
            " 630 631 632 633 634 635 636 637 638 639 640 641 642 643 644 645 646 647\n",
            " 648 649 650 651 652 653 654 655 656 657 658 659 660 661 662 663 664 665\n",
            " 666 667 668 669 670 671 672 673 674 675 676 677 678 679 680 681 682 683\n",
            " 684 685 686 687 688 689 690 691 692 693 694 695 696 697 698 699 700 701\n",
            " 702 703 704 705 706 707 708 709 710 711 712 802 803 804 805 806 807 808\n",
            " 809 810 811 812 813 814 815 816 817 818 819 820 821 822 823 824 825 826\n",
            " 827 828 829 830 831 832 833 834 835 836 837 838 839 840 841 842 843 844\n",
            " 845 846 847 848 849 850 851 852 853 854 855 856 857 858 859 860 861 862\n",
            " 863 864 865 866 867 868 869 870 871 872 873 874 875 876 877 878 879 880\n",
            " 881 882 883 884 885 886 887 888 889 890]\n",
            "Testing Index:  [713 714 715 716 717 718 719 720 721 722 723 724 725 726 727 728 729 730\n",
            " 731 732 733 734 735 736 737 738 739 740 741 742 743 744 745 746 747 748\n",
            " 749 750 751 752 753 754 755 756 757 758 759 760 761 762 763 764 765 766\n",
            " 767 768 769 770 771 772 773 774 775 776 777 778 779 780 781 782 783 784\n",
            " 785 786 787 788 789 790 791 792 793 794 795 796 797 798 799 800 801]\n",
            "Training Index:  [  0   1   2   3   4   5   6   7   8   9  10  11  12  13  14  15  16  17\n",
            "  18  19  20  21  22  23  24  25  26  27  28  29  30  31  32  33  34  35\n",
            "  36  37  38  39  40  41  42  43  44  45  46  47  48  49  50  51  52  53\n",
            "  54  55  56  57  58  59  60  61  62  63  64  65  66  67  68  69  70  71\n",
            "  72  73  74  75  76  77  78  79  80  81  82  83  84  85  86  87  88  89\n",
            "  90  91  92  93  94  95  96  97  98  99 100 101 102 103 104 105 106 107\n",
            " 108 109 110 111 112 113 114 115 116 117 118 119 120 121 122 123 124 125\n",
            " 126 127 128 129 130 131 132 133 134 135 136 137 138 139 140 141 142 143\n",
            " 144 145 146 147 148 149 150 151 152 153 154 155 156 157 158 159 160 161\n",
            " 162 163 164 165 166 167 168 169 170 171 172 173 174 175 176 177 178 179\n",
            " 180 181 182 183 184 185 186 187 188 189 190 191 192 193 194 195 196 197\n",
            " 198 199 200 201 202 203 204 205 206 207 208 209 210 211 212 213 214 215\n",
            " 216 217 218 219 220 221 222 223 224 225 226 227 228 229 230 231 232 233\n",
            " 234 235 236 237 238 239 240 241 242 243 244 245 246 247 248 249 250 251\n",
            " 252 253 254 255 256 257 258 259 260 261 262 263 264 265 266 267 268 269\n",
            " 270 271 272 273 274 275 276 277 278 279 280 281 282 283 284 285 286 287\n",
            " 288 289 290 291 292 293 294 295 296 297 298 299 300 301 302 303 304 305\n",
            " 306 307 308 309 310 311 312 313 314 315 316 317 318 319 320 321 322 323\n",
            " 324 325 326 327 328 329 330 331 332 333 334 335 336 337 338 339 340 341\n",
            " 342 343 344 345 346 347 348 349 350 351 352 353 354 355 356 357 358 359\n",
            " 360 361 362 363 364 365 366 367 368 369 370 371 372 373 374 375 376 377\n",
            " 378 379 380 381 382 383 384 385 386 387 388 389 390 391 392 393 394 395\n",
            " 396 397 398 399 400 401 402 403 404 405 406 407 408 409 410 411 412 413\n",
            " 414 415 416 417 418 419 420 421 422 423 424 425 426 427 428 429 430 431\n",
            " 432 433 434 435 436 437 438 439 440 441 442 443 444 445 446 447 448 449\n",
            " 450 451 452 453 454 455 456 457 458 459 460 461 462 463 464 465 466 467\n",
            " 468 469 470 471 472 473 474 475 476 477 478 479 480 481 482 483 484 485\n",
            " 486 487 488 489 490 491 492 493 494 495 496 497 498 499 500 501 502 503\n",
            " 504 505 506 507 508 509 510 511 512 513 514 515 516 517 518 519 520 521\n",
            " 522 523 524 525 526 527 528 529 530 531 532 533 534 535 536 537 538 539\n",
            " 540 541 542 543 544 545 546 547 548 549 550 551 552 553 554 555 556 557\n",
            " 558 559 560 561 562 563 564 565 566 567 568 569 570 571 572 573 574 575\n",
            " 576 577 578 579 580 581 582 583 584 585 586 587 588 589 590 591 592 593\n",
            " 594 595 596 597 598 599 600 601 602 603 604 605 606 607 608 609 610 611\n",
            " 612 613 614 615 616 617 618 619 620 621 622 623 624 625 626 627 628 629\n",
            " 630 631 632 633 634 635 636 637 638 639 640 641 642 643 644 645 646 647\n",
            " 648 649 650 651 652 653 654 655 656 657 658 659 660 661 662 663 664 665\n",
            " 666 667 668 669 670 671 672 673 674 675 676 677 678 679 680 681 682 683\n",
            " 684 685 686 687 688 689 690 691 692 693 694 695 696 697 698 699 700 701\n",
            " 702 703 704 705 706 707 708 709 710 711 712 713 714 715 716 717 718 719\n",
            " 720 721 722 723 724 725 726 727 728 729 730 731 732 733 734 735 736 737\n",
            " 738 739 740 741 742 743 744 745 746 747 748 749 750 751 752 753 754 755\n",
            " 756 757 758 759 760 761 762 763 764 765 766 767 768 769 770 771 772 773\n",
            " 774 775 776 777 778 779 780 781 782 783 784 785 786 787 788 789 790 791\n",
            " 792 793 794 795 796 797 798 799 800 801]\n",
            "Testing Index:  [802 803 804 805 806 807 808 809 810 811 812 813 814 815 816 817 818 819\n",
            " 820 821 822 823 824 825 826 827 828 829 830 831 832 833 834 835 836 837\n",
            " 838 839 840 841 842 843 844 845 846 847 848 849 850 851 852 853 854 855\n",
            " 856 857 858 859 860 861 862 863 864 865 866 867 868 869 870 871 872 873\n",
            " 874 875 876 877 878 879 880 881 882 883 884 885 886 887 888 889 890]\n"
          ]
        }
      ]
    },
    {
      "cell_type": "markdown",
      "source": [
        "Using Linear regression"
      ],
      "metadata": {
        "id": "1PjJvPM8W3GS"
      }
    },
    {
      "cell_type": "code",
      "source": [
        "from sklearn.model_selection import cross_val_score\n",
        "cv_re = cross_val_score(LR_model,X,y,cv=kfold_validator)"
      ],
      "metadata": {
        "id": "KRCnwAmJ_6fw"
      },
      "execution_count": null,
      "outputs": []
    },
    {
      "cell_type": "code",
      "source": [
        "#  score values(accuracy) of each 10 fold cross validation of test data\n",
        "cv_re"
      ],
      "metadata": {
        "colab": {
          "base_uri": "https://localhost:8080/"
        },
        "id": "dmAo4pw9_6jf",
        "outputId": "cd98a304-0518-42ec-dcdd-ef6f60b9aab2"
      },
      "execution_count": 38,
      "outputs": [
        {
          "output_type": "execute_result",
          "data": {
            "text/plain": [
              "array([0.75555556, 0.80898876, 0.75280899, 0.83146067, 0.73033708,\n",
              "       0.78651685, 0.75280899, 0.74157303, 0.84269663, 0.76404494])"
            ]
          },
          "metadata": {},
          "execution_count": 38
        }
      ]
    },
    {
      "cell_type": "code",
      "source": [
        "# avaerage\n",
        "np.mean(cv_re)"
      ],
      "metadata": {
        "colab": {
          "base_uri": "https://localhost:8080/"
        },
        "id": "a61ONY2Z_6lH",
        "outputId": "d767c1dc-8ed1-49cc-a46e-7e7c0df947aa"
      },
      "execution_count": 39,
      "outputs": [
        {
          "output_type": "execute_result",
          "data": {
            "text/plain": [
              "0.7766791510611735"
            ]
          },
          "metadata": {},
          "execution_count": 39
        }
      ]
    },
    {
      "cell_type": "markdown",
      "source": [
        "# Using kNN"
      ],
      "metadata": {
        "id": "J_2jpBsgYC7U"
      }
    },
    {
      "cell_type": "code",
      "source": [
        "# 10-fold cross-validation with K=20 for KNN (the n_neighbors parameter)\n",
        "# k = 20 for KNeighborsClassifier\n",
        "knn = KNeighborsClassifier(n_neighbors=20)\n",
        "# We are passing the entirety of X and y, not X_train or y_train, it takes care of splitting the data\n",
        "# cv=10 for 10 folds and scores showing accuracy\n",
        "scores = cross_val_score(knn, X, y, cv=10, scoring='accuracy')\n",
        "print(scores)"
      ],
      "metadata": {
        "colab": {
          "base_uri": "https://localhost:8080/"
        },
        "id": "Zq7c4spoYZbs",
        "outputId": "792da7e9-f84b-4a1d-d4e1-7fe7786c6b0a"
      },
      "execution_count": 46,
      "outputs": [
        {
          "output_type": "stream",
          "name": "stdout",
          "text": [
            "[0.61111111 0.61797753 0.51685393 0.51685393 0.5505618  0.68539326\n",
            " 0.70786517 0.61797753 0.68539326 0.61797753]\n"
          ]
        }
      ]
    },
    {
      "cell_type": "code",
      "source": [
        "# avaerage\n",
        "np.mean(scores)"
      ],
      "metadata": {
        "colab": {
          "base_uri": "https://localhost:8080/"
        },
        "id": "n3LBmlisY8ut",
        "outputId": "4915613a-4d8c-4da3-aeb1-ef07cbd2afd0"
      },
      "execution_count": 47,
      "outputs": [
        {
          "output_type": "execute_result",
          "data": {
            "text/plain": [
              "0.6127965043695381"
            ]
          },
          "metadata": {},
          "execution_count": 47
        }
      ]
    },
    {
      "cell_type": "markdown",
      "source": [
        "Using SVM"
      ],
      "metadata": {
        "id": "rvyiZ4J_h8Ld"
      }
    },
    {
      "cell_type": "code",
      "source": [
        "cv_result1 = cross_val_score(classifier,X,y,cv=kfold_validator)"
      ],
      "metadata": {
        "id": "F8_DaVE-iAtB"
      },
      "execution_count": 62,
      "outputs": []
    },
    {
      "cell_type": "code",
      "source": [
        "cv_result1"
      ],
      "metadata": {
        "colab": {
          "base_uri": "https://localhost:8080/"
        },
        "id": "hPT_zmljif0S",
        "outputId": "78572fd4-a5d6-4cfe-ac8a-81bc67d5776c"
      },
      "execution_count": 63,
      "outputs": [
        {
          "output_type": "execute_result",
          "data": {
            "text/plain": [
              "array([0.8       , 0.82022472, 0.75280899, 0.84269663, 0.76404494,\n",
              "       0.79775281, 0.75280899, 0.73033708, 0.84269663, 0.76404494])"
            ]
          },
          "metadata": {},
          "execution_count": 63
        }
      ]
    },
    {
      "cell_type": "code",
      "source": [
        "np.mean(cv_result1)"
      ],
      "metadata": {
        "colab": {
          "base_uri": "https://localhost:8080/"
        },
        "id": "K8IA-umeijPn",
        "outputId": "508ee807-b3af-4237-b343-13793acf775a"
      },
      "execution_count": 64,
      "outputs": [
        {
          "output_type": "execute_result",
          "data": {
            "text/plain": [
              "0.786741573033708"
            ]
          },
          "metadata": {},
          "execution_count": 64
        }
      ]
    },
    {
      "cell_type": "markdown",
      "source": [
        "# Stratified cross validation"
      ],
      "metadata": {
        "id": "1HC3WEFQLoLC"
      }
    },
    {
      "cell_type": "code",
      "source": [
        "# Lets split the data into 10 folds.\n",
        "from sklearn.model_selection import StratifiedKFold\n",
        "skfold_validator =StratifiedKFold(n_splits = 10)\n",
        "\n",
        "\n",
        "# split()  method generate indices to split data into training and test set.\n",
        "for train_index,test_index in skfold_validator.split(X,y):\n",
        "  print('Training Index: ',train_index)\n",
        "  print('Testing Index: ',test_index)"
      ],
      "metadata": {
        "colab": {
          "base_uri": "https://localhost:8080/"
        },
        "id": "CnSxYgKbLvXU",
        "outputId": "6e43ce0f-1e5c-44f7-f1f5-1d67f821b77b"
      },
      "execution_count": 40,
      "outputs": [
        {
          "output_type": "stream",
          "name": "stdout",
          "text": [
            "Training Index:  [ 82  84  85  88  94  95  96  97  98  99 100 101 102 103 104 105 106 107\n",
            " 108 109 110 111 112 113 114 115 116 117 118 119 120 121 122 123 124 125\n",
            " 126 127 128 129 130 131 132 133 134 135 136 137 138 139 140 141 142 143\n",
            " 144 145 146 147 148 149 150 151 152 153 154 155 156 157 158 159 160 161\n",
            " 162 163 164 165 166 167 168 169 170 171 172 173 174 175 176 177 178 179\n",
            " 180 181 182 183 184 185 186 187 188 189 190 191 192 193 194 195 196 197\n",
            " 198 199 200 201 202 203 204 205 206 207 208 209 210 211 212 213 214 215\n",
            " 216 217 218 219 220 221 222 223 224 225 226 227 228 229 230 231 232 233\n",
            " 234 235 236 237 238 239 240 241 242 243 244 245 246 247 248 249 250 251\n",
            " 252 253 254 255 256 257 258 259 260 261 262 263 264 265 266 267 268 269\n",
            " 270 271 272 273 274 275 276 277 278 279 280 281 282 283 284 285 286 287\n",
            " 288 289 290 291 292 293 294 295 296 297 298 299 300 301 302 303 304 305\n",
            " 306 307 308 309 310 311 312 313 314 315 316 317 318 319 320 321 322 323\n",
            " 324 325 326 327 328 329 330 331 332 333 334 335 336 337 338 339 340 341\n",
            " 342 343 344 345 346 347 348 349 350 351 352 353 354 355 356 357 358 359\n",
            " 360 361 362 363 364 365 366 367 368 369 370 371 372 373 374 375 376 377\n",
            " 378 379 380 381 382 383 384 385 386 387 388 389 390 391 392 393 394 395\n",
            " 396 397 398 399 400 401 402 403 404 405 406 407 408 409 410 411 412 413\n",
            " 414 415 416 417 418 419 420 421 422 423 424 425 426 427 428 429 430 431\n",
            " 432 433 434 435 436 437 438 439 440 441 442 443 444 445 446 447 448 449\n",
            " 450 451 452 453 454 455 456 457 458 459 460 461 462 463 464 465 466 467\n",
            " 468 469 470 471 472 473 474 475 476 477 478 479 480 481 482 483 484 485\n",
            " 486 487 488 489 490 491 492 493 494 495 496 497 498 499 500 501 502 503\n",
            " 504 505 506 507 508 509 510 511 512 513 514 515 516 517 518 519 520 521\n",
            " 522 523 524 525 526 527 528 529 530 531 532 533 534 535 536 537 538 539\n",
            " 540 541 542 543 544 545 546 547 548 549 550 551 552 553 554 555 556 557\n",
            " 558 559 560 561 562 563 564 565 566 567 568 569 570 571 572 573 574 575\n",
            " 576 577 578 579 580 581 582 583 584 585 586 587 588 589 590 591 592 593\n",
            " 594 595 596 597 598 599 600 601 602 603 604 605 606 607 608 609 610 611\n",
            " 612 613 614 615 616 617 618 619 620 621 622 623 624 625 626 627 628 629\n",
            " 630 631 632 633 634 635 636 637 638 639 640 641 642 643 644 645 646 647\n",
            " 648 649 650 651 652 653 654 655 656 657 658 659 660 661 662 663 664 665\n",
            " 666 667 668 669 670 671 672 673 674 675 676 677 678 679 680 681 682 683\n",
            " 684 685 686 687 688 689 690 691 692 693 694 695 696 697 698 699 700 701\n",
            " 702 703 704 705 706 707 708 709 710 711 712 713 714 715 716 717 718 719\n",
            " 720 721 722 723 724 725 726 727 728 729 730 731 732 733 734 735 736 737\n",
            " 738 739 740 741 742 743 744 745 746 747 748 749 750 751 752 753 754 755\n",
            " 756 757 758 759 760 761 762 763 764 765 766 767 768 769 770 771 772 773\n",
            " 774 775 776 777 778 779 780 781 782 783 784 785 786 787 788 789 790 791\n",
            " 792 793 794 795 796 797 798 799 800 801 802 803 804 805 806 807 808 809\n",
            " 810 811 812 813 814 815 816 817 818 819 820 821 822 823 824 825 826 827\n",
            " 828 829 830 831 832 833 834 835 836 837 838 839 840 841 842 843 844 845\n",
            " 846 847 848 849 850 851 852 853 854 855 856 857 858 859 860 861 862 863\n",
            " 864 865 866 867 868 869 870 871 872 873 874 875 876 877 878 879 880 881\n",
            " 882 883 884 885 886 887 888 889 890]\n",
            "Testing Index:  [ 0  1  2  3  4  5  6  7  8  9 10 11 12 13 14 15 16 17 18 19 20 21 22 23\n",
            " 24 25 26 27 28 29 30 31 32 33 34 35 36 37 38 39 40 41 42 43 44 45 46 47\n",
            " 48 49 50 51 52 53 54 55 56 57 58 59 60 61 62 63 64 65 66 67 68 69 70 71\n",
            " 72 73 74 75 76 77 78 79 80 81 83 86 87 89 90 91 92 93]\n",
            "Training Index:  [  0   1   2   3   4   5   6   7   8   9  10  11  12  13  14  15  16  17\n",
            "  18  19  20  21  22  23  24  25  26  27  28  29  30  31  32  33  34  35\n",
            "  36  37  38  39  40  41  42  43  44  45  46  47  48  49  50  51  52  53\n",
            "  54  55  56  57  58  59  60  61  62  63  64  65  66  67  68  69  70  71\n",
            "  72  73  74  75  76  77  78  79  80  81  83  86  87  89  90  91  92  93\n",
            " 168 169 170 171 173 174 175 176 177 178 179 180 181 182 185 188 189 191\n",
            " 196 197 199 200 201 202 203 204 205 206 207 208 209 210 211 212 213 214\n",
            " 215 216 217 218 219 220 221 222 223 224 225 226 227 228 229 230 231 232\n",
            " 233 234 235 236 237 238 239 240 241 242 243 244 245 246 247 248 249 250\n",
            " 251 252 253 254 255 256 257 258 259 260 261 262 263 264 265 266 267 268\n",
            " 269 270 271 272 273 274 275 276 277 278 279 280 281 282 283 284 285 286\n",
            " 287 288 289 290 291 292 293 294 295 296 297 298 299 300 301 302 303 304\n",
            " 305 306 307 308 309 310 311 312 313 314 315 316 317 318 319 320 321 322\n",
            " 323 324 325 326 327 328 329 330 331 332 333 334 335 336 337 338 339 340\n",
            " 341 342 343 344 345 346 347 348 349 350 351 352 353 354 355 356 357 358\n",
            " 359 360 361 362 363 364 365 366 367 368 369 370 371 372 373 374 375 376\n",
            " 377 378 379 380 381 382 383 384 385 386 387 388 389 390 391 392 393 394\n",
            " 395 396 397 398 399 400 401 402 403 404 405 406 407 408 409 410 411 412\n",
            " 413 414 415 416 417 418 419 420 421 422 423 424 425 426 427 428 429 430\n",
            " 431 432 433 434 435 436 437 438 439 440 441 442 443 444 445 446 447 448\n",
            " 449 450 451 452 453 454 455 456 457 458 459 460 461 462 463 464 465 466\n",
            " 467 468 469 470 471 472 473 474 475 476 477 478 479 480 481 482 483 484\n",
            " 485 486 487 488 489 490 491 492 493 494 495 496 497 498 499 500 501 502\n",
            " 503 504 505 506 507 508 509 510 511 512 513 514 515 516 517 518 519 520\n",
            " 521 522 523 524 525 526 527 528 529 530 531 532 533 534 535 536 537 538\n",
            " 539 540 541 542 543 544 545 546 547 548 549 550 551 552 553 554 555 556\n",
            " 557 558 559 560 561 562 563 564 565 566 567 568 569 570 571 572 573 574\n",
            " 575 576 577 578 579 580 581 582 583 584 585 586 587 588 589 590 591 592\n",
            " 593 594 595 596 597 598 599 600 601 602 603 604 605 606 607 608 609 610\n",
            " 611 612 613 614 615 616 617 618 619 620 621 622 623 624 625 626 627 628\n",
            " 629 630 631 632 633 634 635 636 637 638 639 640 641 642 643 644 645 646\n",
            " 647 648 649 650 651 652 653 654 655 656 657 658 659 660 661 662 663 664\n",
            " 665 666 667 668 669 670 671 672 673 674 675 676 677 678 679 680 681 682\n",
            " 683 684 685 686 687 688 689 690 691 692 693 694 695 696 697 698 699 700\n",
            " 701 702 703 704 705 706 707 708 709 710 711 712 713 714 715 716 717 718\n",
            " 719 720 721 722 723 724 725 726 727 728 729 730 731 732 733 734 735 736\n",
            " 737 738 739 740 741 742 743 744 745 746 747 748 749 750 751 752 753 754\n",
            " 755 756 757 758 759 760 761 762 763 764 765 766 767 768 769 770 771 772\n",
            " 773 774 775 776 777 778 779 780 781 782 783 784 785 786 787 788 789 790\n",
            " 791 792 793 794 795 796 797 798 799 800 801 802 803 804 805 806 807 808\n",
            " 809 810 811 812 813 814 815 816 817 818 819 820 821 822 823 824 825 826\n",
            " 827 828 829 830 831 832 833 834 835 836 837 838 839 840 841 842 843 844\n",
            " 845 846 847 848 849 850 851 852 853 854 855 856 857 858 859 860 861 862\n",
            " 863 864 865 866 867 868 869 870 871 872 873 874 875 876 877 878 879 880\n",
            " 881 882 883 884 885 886 887 888 889 890]\n",
            "Testing Index:  [ 82  84  85  88  94  95  96  97  98  99 100 101 102 103 104 105 106 107\n",
            " 108 109 110 111 112 113 114 115 116 117 118 119 120 121 122 123 124 125\n",
            " 126 127 128 129 130 131 132 133 134 135 136 137 138 139 140 141 142 143\n",
            " 144 145 146 147 148 149 150 151 152 153 154 155 156 157 158 159 160 161\n",
            " 162 163 164 165 166 167 172 183 184 186 187 190 192 193 194 195 198]\n",
            "Training Index:  [  0   1   2   3   4   5   6   7   8   9  10  11  12  13  14  15  16  17\n",
            "  18  19  20  21  22  23  24  25  26  27  28  29  30  31  32  33  34  35\n",
            "  36  37  38  39  40  41  42  43  44  45  46  47  48  49  50  51  52  53\n",
            "  54  55  56  57  58  59  60  61  62  63  64  65  66  67  68  69  70  71\n",
            "  72  73  74  75  76  77  78  79  80  81  82  83  84  85  86  87  88  89\n",
            "  90  91  92  93  94  95  96  97  98  99 100 101 102 103 104 105 106 107\n",
            " 108 109 110 111 112 113 114 115 116 117 118 119 120 121 122 123 124 125\n",
            " 126 127 128 129 130 131 132 133 134 135 136 137 138 139 140 141 142 143\n",
            " 144 145 146 147 148 149 150 151 152 153 154 155 156 157 158 159 160 161\n",
            " 162 163 164 165 166 167 172 183 184 186 187 190 192 193 194 195 198 251\n",
            " 252 253 254 260 262 263 264 265 266 270 273 276 277 278 280 281 282 284\n",
            " 285 287 289 290 291 292 293 294 295 296 297 298 299 300 301 302 303 304\n",
            " 305 306 307 308 309 310 311 312 313 314 315 316 317 318 319 320 321 322\n",
            " 323 324 325 326 327 328 329 330 331 332 333 334 335 336 337 338 339 340\n",
            " 341 342 343 344 345 346 347 348 349 350 351 352 353 354 355 356 357 358\n",
            " 359 360 361 362 363 364 365 366 367 368 369 370 371 372 373 374 375 376\n",
            " 377 378 379 380 381 382 383 384 385 386 387 388 389 390 391 392 393 394\n",
            " 395 396 397 398 399 400 401 402 403 404 405 406 407 408 409 410 411 412\n",
            " 413 414 415 416 417 418 419 420 421 422 423 424 425 426 427 428 429 430\n",
            " 431 432 433 434 435 436 437 438 439 440 441 442 443 444 445 446 447 448\n",
            " 449 450 451 452 453 454 455 456 457 458 459 460 461 462 463 464 465 466\n",
            " 467 468 469 470 471 472 473 474 475 476 477 478 479 480 481 482 483 484\n",
            " 485 486 487 488 489 490 491 492 493 494 495 496 497 498 499 500 501 502\n",
            " 503 504 505 506 507 508 509 510 511 512 513 514 515 516 517 518 519 520\n",
            " 521 522 523 524 525 526 527 528 529 530 531 532 533 534 535 536 537 538\n",
            " 539 540 541 542 543 544 545 546 547 548 549 550 551 552 553 554 555 556\n",
            " 557 558 559 560 561 562 563 564 565 566 567 568 569 570 571 572 573 574\n",
            " 575 576 577 578 579 580 581 582 583 584 585 586 587 588 589 590 591 592\n",
            " 593 594 595 596 597 598 599 600 601 602 603 604 605 606 607 608 609 610\n",
            " 611 612 613 614 615 616 617 618 619 620 621 622 623 624 625 626 627 628\n",
            " 629 630 631 632 633 634 635 636 637 638 639 640 641 642 643 644 645 646\n",
            " 647 648 649 650 651 652 653 654 655 656 657 658 659 660 661 662 663 664\n",
            " 665 666 667 668 669 670 671 672 673 674 675 676 677 678 679 680 681 682\n",
            " 683 684 685 686 687 688 689 690 691 692 693 694 695 696 697 698 699 700\n",
            " 701 702 703 704 705 706 707 708 709 710 711 712 713 714 715 716 717 718\n",
            " 719 720 721 722 723 724 725 726 727 728 729 730 731 732 733 734 735 736\n",
            " 737 738 739 740 741 742 743 744 745 746 747 748 749 750 751 752 753 754\n",
            " 755 756 757 758 759 760 761 762 763 764 765 766 767 768 769 770 771 772\n",
            " 773 774 775 776 777 778 779 780 781 782 783 784 785 786 787 788 789 790\n",
            " 791 792 793 794 795 796 797 798 799 800 801 802 803 804 805 806 807 808\n",
            " 809 810 811 812 813 814 815 816 817 818 819 820 821 822 823 824 825 826\n",
            " 827 828 829 830 831 832 833 834 835 836 837 838 839 840 841 842 843 844\n",
            " 845 846 847 848 849 850 851 852 853 854 855 856 857 858 859 860 861 862\n",
            " 863 864 865 866 867 868 869 870 871 872 873 874 875 876 877 878 879 880\n",
            " 881 882 883 884 885 886 887 888 889 890]\n",
            "Testing Index:  [168 169 170 171 173 174 175 176 177 178 179 180 181 182 185 188 189 191\n",
            " 196 197 199 200 201 202 203 204 205 206 207 208 209 210 211 212 213 214\n",
            " 215 216 217 218 219 220 221 222 223 224 225 226 227 228 229 230 231 232\n",
            " 233 234 235 236 237 238 239 240 241 242 243 244 245 246 247 248 249 250\n",
            " 255 256 257 258 259 261 267 268 269 271 272 274 275 279 283 286 288]\n",
            "Training Index:  [  0   1   2   3   4   5   6   7   8   9  10  11  12  13  14  15  16  17\n",
            "  18  19  20  21  22  23  24  25  26  27  28  29  30  31  32  33  34  35\n",
            "  36  37  38  39  40  41  42  43  44  45  46  47  48  49  50  51  52  53\n",
            "  54  55  56  57  58  59  60  61  62  63  64  65  66  67  68  69  70  71\n",
            "  72  73  74  75  76  77  78  79  80  81  82  83  84  85  86  87  88  89\n",
            "  90  91  92  93  94  95  96  97  98  99 100 101 102 103 104 105 106 107\n",
            " 108 109 110 111 112 113 114 115 116 117 118 119 120 121 122 123 124 125\n",
            " 126 127 128 129 130 131 132 133 134 135 136 137 138 139 140 141 142 143\n",
            " 144 145 146 147 148 149 150 151 152 153 154 155 156 157 158 159 160 161\n",
            " 162 163 164 165 166 167 168 169 170 171 172 173 174 175 176 177 178 179\n",
            " 180 181 182 183 184 185 186 187 188 189 190 191 192 193 194 195 196 197\n",
            " 198 199 200 201 202 203 204 205 206 207 208 209 210 211 212 213 214 215\n",
            " 216 217 218 219 220 221 222 223 224 225 226 227 228 229 230 231 232 233\n",
            " 234 235 236 237 238 239 240 241 242 243 244 245 246 247 248 249 250 255\n",
            " 256 257 258 259 261 267 268 269 271 272 274 275 279 283 286 288 356 358\n",
            " 359 360 361 362 363 364 365 366 367 368 369 370 371 372 373 374 375 376\n",
            " 377 378 379 380 381 382 383 384 385 386 387 388 389 390 391 392 393 394\n",
            " 395 396 397 398 399 400 401 402 403 404 405 406 407 408 409 410 411 412\n",
            " 413 414 415 416 417 418 419 420 421 422 423 424 425 426 427 428 429 430\n",
            " 431 432 433 434 435 436 437 438 439 440 441 442 443 444 445 446 447 448\n",
            " 449 450 451 452 453 454 455 456 457 458 459 460 461 462 463 464 465 466\n",
            " 467 468 469 470 471 472 473 474 475 476 477 478 479 480 481 482 483 484\n",
            " 485 486 487 488 489 490 491 492 493 494 495 496 497 498 499 500 501 502\n",
            " 503 504 505 506 507 508 509 510 511 512 513 514 515 516 517 518 519 520\n",
            " 521 522 523 524 525 526 527 528 529 530 531 532 533 534 535 536 537 538\n",
            " 539 540 541 542 543 544 545 546 547 548 549 550 551 552 553 554 555 556\n",
            " 557 558 559 560 561 562 563 564 565 566 567 568 569 570 571 572 573 574\n",
            " 575 576 577 578 579 580 581 582 583 584 585 586 587 588 589 590 591 592\n",
            " 593 594 595 596 597 598 599 600 601 602 603 604 605 606 607 608 609 610\n",
            " 611 612 613 614 615 616 617 618 619 620 621 622 623 624 625 626 627 628\n",
            " 629 630 631 632 633 634 635 636 637 638 639 640 641 642 643 644 645 646\n",
            " 647 648 649 650 651 652 653 654 655 656 657 658 659 660 661 662 663 664\n",
            " 665 666 667 668 669 670 671 672 673 674 675 676 677 678 679 680 681 682\n",
            " 683 684 685 686 687 688 689 690 691 692 693 694 695 696 697 698 699 700\n",
            " 701 702 703 704 705 706 707 708 709 710 711 712 713 714 715 716 717 718\n",
            " 719 720 721 722 723 724 725 726 727 728 729 730 731 732 733 734 735 736\n",
            " 737 738 739 740 741 742 743 744 745 746 747 748 749 750 751 752 753 754\n",
            " 755 756 757 758 759 760 761 762 763 764 765 766 767 768 769 770 771 772\n",
            " 773 774 775 776 777 778 779 780 781 782 783 784 785 786 787 788 789 790\n",
            " 791 792 793 794 795 796 797 798 799 800 801 802 803 804 805 806 807 808\n",
            " 809 810 811 812 813 814 815 816 817 818 819 820 821 822 823 824 825 826\n",
            " 827 828 829 830 831 832 833 834 835 836 837 838 839 840 841 842 843 844\n",
            " 845 846 847 848 849 850 851 852 853 854 855 856 857 858 859 860 861 862\n",
            " 863 864 865 866 867 868 869 870 871 872 873 874 875 876 877 878 879 880\n",
            " 881 882 883 884 885 886 887 888 889 890]\n",
            "Testing Index:  [251 252 253 254 260 262 263 264 265 266 270 273 276 277 278 280 281 282\n",
            " 284 285 287 289 290 291 292 293 294 295 296 297 298 299 300 301 302 303\n",
            " 304 305 306 307 308 309 310 311 312 313 314 315 316 317 318 319 320 321\n",
            " 322 323 324 325 326 327 328 329 330 331 332 333 334 335 336 337 338 339\n",
            " 340 341 342 343 344 345 346 347 348 349 350 351 352 353 354 355 357]\n",
            "Training Index:  [  0   1   2   3   4   5   6   7   8   9  10  11  12  13  14  15  16  17\n",
            "  18  19  20  21  22  23  24  25  26  27  28  29  30  31  32  33  34  35\n",
            "  36  37  38  39  40  41  42  43  44  45  46  47  48  49  50  51  52  53\n",
            "  54  55  56  57  58  59  60  61  62  63  64  65  66  67  68  69  70  71\n",
            "  72  73  74  75  76  77  78  79  80  81  82  83  84  85  86  87  88  89\n",
            "  90  91  92  93  94  95  96  97  98  99 100 101 102 103 104 105 106 107\n",
            " 108 109 110 111 112 113 114 115 116 117 118 119 120 121 122 123 124 125\n",
            " 126 127 128 129 130 131 132 133 134 135 136 137 138 139 140 141 142 143\n",
            " 144 145 146 147 148 149 150 151 152 153 154 155 156 157 158 159 160 161\n",
            " 162 163 164 165 166 167 168 169 170 171 172 173 174 175 176 177 178 179\n",
            " 180 181 182 183 184 185 186 187 188 189 190 191 192 193 194 195 196 197\n",
            " 198 199 200 201 202 203 204 205 206 207 208 209 210 211 212 213 214 215\n",
            " 216 217 218 219 220 221 222 223 224 225 226 227 228 229 230 231 232 233\n",
            " 234 235 236 237 238 239 240 241 242 243 244 245 246 247 248 249 250 251\n",
            " 252 253 254 255 256 257 258 259 260 261 262 263 264 265 266 267 268 269\n",
            " 270 271 272 273 274 275 276 277 278 279 280 281 282 283 284 285 286 287\n",
            " 288 289 290 291 292 293 294 295 296 297 298 299 300 301 302 303 304 305\n",
            " 306 307 308 309 310 311 312 313 314 315 316 317 318 319 320 321 322 323\n",
            " 324 325 326 327 328 329 330 331 332 333 334 335 336 337 338 339 340 341\n",
            " 342 343 344 345 346 347 348 349 350 351 352 353 354 355 357 440 443 444\n",
            " 445 446 447 448 449 453 455 456 457 458 459 460 461 462 463 464 465 466\n",
            " 467 468 469 470 471 472 473 474 475 476 477 478 479 480 481 482 483 484\n",
            " 485 486 487 488 489 490 491 492 493 494 495 496 497 498 499 500 501 502\n",
            " 503 504 505 506 507 508 509 510 511 512 513 514 515 516 517 518 519 520\n",
            " 521 522 523 524 525 526 527 528 529 530 531 532 533 534 535 536 537 538\n",
            " 539 540 541 542 543 544 545 546 547 548 549 550 551 552 553 554 555 556\n",
            " 557 558 559 560 561 562 563 564 565 566 567 568 569 570 571 572 573 574\n",
            " 575 576 577 578 579 580 581 582 583 584 585 586 587 588 589 590 591 592\n",
            " 593 594 595 596 597 598 599 600 601 602 603 604 605 606 607 608 609 610\n",
            " 611 612 613 614 615 616 617 618 619 620 621 622 623 624 625 626 627 628\n",
            " 629 630 631 632 633 634 635 636 637 638 639 640 641 642 643 644 645 646\n",
            " 647 648 649 650 651 652 653 654 655 656 657 658 659 660 661 662 663 664\n",
            " 665 666 667 668 669 670 671 672 673 674 675 676 677 678 679 680 681 682\n",
            " 683 684 685 686 687 688 689 690 691 692 693 694 695 696 697 698 699 700\n",
            " 701 702 703 704 705 706 707 708 709 710 711 712 713 714 715 716 717 718\n",
            " 719 720 721 722 723 724 725 726 727 728 729 730 731 732 733 734 735 736\n",
            " 737 738 739 740 741 742 743 744 745 746 747 748 749 750 751 752 753 754\n",
            " 755 756 757 758 759 760 761 762 763 764 765 766 767 768 769 770 771 772\n",
            " 773 774 775 776 777 778 779 780 781 782 783 784 785 786 787 788 789 790\n",
            " 791 792 793 794 795 796 797 798 799 800 801 802 803 804 805 806 807 808\n",
            " 809 810 811 812 813 814 815 816 817 818 819 820 821 822 823 824 825 826\n",
            " 827 828 829 830 831 832 833 834 835 836 837 838 839 840 841 842 843 844\n",
            " 845 846 847 848 849 850 851 852 853 854 855 856 857 858 859 860 861 862\n",
            " 863 864 865 866 867 868 869 870 871 872 873 874 875 876 877 878 879 880\n",
            " 881 882 883 884 885 886 887 888 889 890]\n",
            "Testing Index:  [356 358 359 360 361 362 363 364 365 366 367 368 369 370 371 372 373 374\n",
            " 375 376 377 378 379 380 381 382 383 384 385 386 387 388 389 390 391 392\n",
            " 393 394 395 396 397 398 399 400 401 402 403 404 405 406 407 408 409 410\n",
            " 411 412 413 414 415 416 417 418 419 420 421 422 423 424 425 426 427 428\n",
            " 429 430 431 432 433 434 435 436 437 438 439 441 442 450 451 452 454]\n",
            "Training Index:  [  0   1   2   3   4   5   6   7   8   9  10  11  12  13  14  15  16  17\n",
            "  18  19  20  21  22  23  24  25  26  27  28  29  30  31  32  33  34  35\n",
            "  36  37  38  39  40  41  42  43  44  45  46  47  48  49  50  51  52  53\n",
            "  54  55  56  57  58  59  60  61  62  63  64  65  66  67  68  69  70  71\n",
            "  72  73  74  75  76  77  78  79  80  81  82  83  84  85  86  87  88  89\n",
            "  90  91  92  93  94  95  96  97  98  99 100 101 102 103 104 105 106 107\n",
            " 108 109 110 111 112 113 114 115 116 117 118 119 120 121 122 123 124 125\n",
            " 126 127 128 129 130 131 132 133 134 135 136 137 138 139 140 141 142 143\n",
            " 144 145 146 147 148 149 150 151 152 153 154 155 156 157 158 159 160 161\n",
            " 162 163 164 165 166 167 168 169 170 171 172 173 174 175 176 177 178 179\n",
            " 180 181 182 183 184 185 186 187 188 189 190 191 192 193 194 195 196 197\n",
            " 198 199 200 201 202 203 204 205 206 207 208 209 210 211 212 213 214 215\n",
            " 216 217 218 219 220 221 222 223 224 225 226 227 228 229 230 231 232 233\n",
            " 234 235 236 237 238 239 240 241 242 243 244 245 246 247 248 249 250 251\n",
            " 252 253 254 255 256 257 258 259 260 261 262 263 264 265 266 267 268 269\n",
            " 270 271 272 273 274 275 276 277 278 279 280 281 282 283 284 285 286 287\n",
            " 288 289 290 291 292 293 294 295 296 297 298 299 300 301 302 303 304 305\n",
            " 306 307 308 309 310 311 312 313 314 315 316 317 318 319 320 321 322 323\n",
            " 324 325 326 327 328 329 330 331 332 333 334 335 336 337 338 339 340 341\n",
            " 342 343 344 345 346 347 348 349 350 351 352 353 354 355 356 357 358 359\n",
            " 360 361 362 363 364 365 366 367 368 369 370 371 372 373 374 375 376 377\n",
            " 378 379 380 381 382 383 384 385 386 387 388 389 390 391 392 393 394 395\n",
            " 396 397 398 399 400 401 402 403 404 405 406 407 408 409 410 411 412 413\n",
            " 414 415 416 417 418 419 420 421 422 423 424 425 426 427 428 429 430 431\n",
            " 432 433 434 435 436 437 438 439 441 442 450 451 452 454 530 533 535 537\n",
            " 539 540 541 542 543 544 545 546 547 548 549 550 551 552 553 554 555 556\n",
            " 557 558 559 560 561 562 563 564 565 566 567 568 569 570 571 572 573 574\n",
            " 575 576 577 578 579 580 581 582 583 584 585 586 587 588 589 590 591 592\n",
            " 593 594 595 596 597 598 599 600 601 602 603 604 605 606 607 608 609 610\n",
            " 611 612 613 614 615 616 617 618 619 620 621 622 623 624 625 626 627 628\n",
            " 629 630 631 632 633 634 635 636 637 638 639 640 641 642 643 644 645 646\n",
            " 647 648 649 650 651 652 653 654 655 656 657 658 659 660 661 662 663 664\n",
            " 665 666 667 668 669 670 671 672 673 674 675 676 677 678 679 680 681 682\n",
            " 683 684 685 686 687 688 689 690 691 692 693 694 695 696 697 698 699 700\n",
            " 701 702 703 704 705 706 707 708 709 710 711 712 713 714 715 716 717 718\n",
            " 719 720 721 722 723 724 725 726 727 728 729 730 731 732 733 734 735 736\n",
            " 737 738 739 740 741 742 743 744 745 746 747 748 749 750 751 752 753 754\n",
            " 755 756 757 758 759 760 761 762 763 764 765 766 767 768 769 770 771 772\n",
            " 773 774 775 776 777 778 779 780 781 782 783 784 785 786 787 788 789 790\n",
            " 791 792 793 794 795 796 797 798 799 800 801 802 803 804 805 806 807 808\n",
            " 809 810 811 812 813 814 815 816 817 818 819 820 821 822 823 824 825 826\n",
            " 827 828 829 830 831 832 833 834 835 836 837 838 839 840 841 842 843 844\n",
            " 845 846 847 848 849 850 851 852 853 854 855 856 857 858 859 860 861 862\n",
            " 863 864 865 866 867 868 869 870 871 872 873 874 875 876 877 878 879 880\n",
            " 881 882 883 884 885 886 887 888 889 890]\n",
            "Testing Index:  [440 443 444 445 446 447 448 449 453 455 456 457 458 459 460 461 462 463\n",
            " 464 465 466 467 468 469 470 471 472 473 474 475 476 477 478 479 480 481\n",
            " 482 483 484 485 486 487 488 489 490 491 492 493 494 495 496 497 498 499\n",
            " 500 501 502 503 504 505 506 507 508 509 510 511 512 513 514 515 516 517\n",
            " 518 519 520 521 522 523 524 525 526 527 528 529 531 532 534 536 538]\n",
            "Training Index:  [  0   1   2   3   4   5   6   7   8   9  10  11  12  13  14  15  16  17\n",
            "  18  19  20  21  22  23  24  25  26  27  28  29  30  31  32  33  34  35\n",
            "  36  37  38  39  40  41  42  43  44  45  46  47  48  49  50  51  52  53\n",
            "  54  55  56  57  58  59  60  61  62  63  64  65  66  67  68  69  70  71\n",
            "  72  73  74  75  76  77  78  79  80  81  82  83  84  85  86  87  88  89\n",
            "  90  91  92  93  94  95  96  97  98  99 100 101 102 103 104 105 106 107\n",
            " 108 109 110 111 112 113 114 115 116 117 118 119 120 121 122 123 124 125\n",
            " 126 127 128 129 130 131 132 133 134 135 136 137 138 139 140 141 142 143\n",
            " 144 145 146 147 148 149 150 151 152 153 154 155 156 157 158 159 160 161\n",
            " 162 163 164 165 166 167 168 169 170 171 172 173 174 175 176 177 178 179\n",
            " 180 181 182 183 184 185 186 187 188 189 190 191 192 193 194 195 196 197\n",
            " 198 199 200 201 202 203 204 205 206 207 208 209 210 211 212 213 214 215\n",
            " 216 217 218 219 220 221 222 223 224 225 226 227 228 229 230 231 232 233\n",
            " 234 235 236 237 238 239 240 241 242 243 244 245 246 247 248 249 250 251\n",
            " 252 253 254 255 256 257 258 259 260 261 262 263 264 265 266 267 268 269\n",
            " 270 271 272 273 274 275 276 277 278 279 280 281 282 283 284 285 286 287\n",
            " 288 289 290 291 292 293 294 295 296 297 298 299 300 301 302 303 304 305\n",
            " 306 307 308 309 310 311 312 313 314 315 316 317 318 319 320 321 322 323\n",
            " 324 325 326 327 328 329 330 331 332 333 334 335 336 337 338 339 340 341\n",
            " 342 343 344 345 346 347 348 349 350 351 352 353 354 355 356 357 358 359\n",
            " 360 361 362 363 364 365 366 367 368 369 370 371 372 373 374 375 376 377\n",
            " 378 379 380 381 382 383 384 385 386 387 388 389 390 391 392 393 394 395\n",
            " 396 397 398 399 400 401 402 403 404 405 406 407 408 409 410 411 412 413\n",
            " 414 415 416 417 418 419 420 421 422 423 424 425 426 427 428 429 430 431\n",
            " 432 433 434 435 436 437 438 439 440 441 442 443 444 445 446 447 448 449\n",
            " 450 451 452 453 454 455 456 457 458 459 460 461 462 463 464 465 466 467\n",
            " 468 469 470 471 472 473 474 475 476 477 478 479 480 481 482 483 484 485\n",
            " 486 487 488 489 490 491 492 493 494 495 496 497 498 499 500 501 502 503\n",
            " 504 505 506 507 508 509 510 511 512 513 514 515 516 517 518 519 520 521\n",
            " 522 523 524 525 526 527 528 529 531 532 534 536 538 608 609 612 615 618\n",
            " 621 622 627 630 632 634 635 636 637 638 639 640 641 642 643 644 645 646\n",
            " 647 648 649 650 651 652 653 654 655 656 657 658 659 660 661 662 663 664\n",
            " 665 666 667 668 669 670 671 672 673 674 675 676 677 678 679 680 681 682\n",
            " 683 684 685 686 687 688 689 690 691 692 693 694 695 696 697 698 699 700\n",
            " 701 702 703 704 705 706 707 708 709 710 711 712 713 714 715 716 717 718\n",
            " 719 720 721 722 723 724 725 726 727 728 729 730 731 732 733 734 735 736\n",
            " 737 738 739 740 741 742 743 744 745 746 747 748 749 750 751 752 753 754\n",
            " 755 756 757 758 759 760 761 762 763 764 765 766 767 768 769 770 771 772\n",
            " 773 774 775 776 777 778 779 780 781 782 783 784 785 786 787 788 789 790\n",
            " 791 792 793 794 795 796 797 798 799 800 801 802 803 804 805 806 807 808\n",
            " 809 810 811 812 813 814 815 816 817 818 819 820 821 822 823 824 825 826\n",
            " 827 828 829 830 831 832 833 834 835 836 837 838 839 840 841 842 843 844\n",
            " 845 846 847 848 849 850 851 852 853 854 855 856 857 858 859 860 861 862\n",
            " 863 864 865 866 867 868 869 870 871 872 873 874 875 876 877 878 879 880\n",
            " 881 882 883 884 885 886 887 888 889 890]\n",
            "Testing Index:  [530 533 535 537 539 540 541 542 543 544 545 546 547 548 549 550 551 552\n",
            " 553 554 555 556 557 558 559 560 561 562 563 564 565 566 567 568 569 570\n",
            " 571 572 573 574 575 576 577 578 579 580 581 582 583 584 585 586 587 588\n",
            " 589 590 591 592 593 594 595 596 597 598 599 600 601 602 603 604 605 606\n",
            " 607 610 611 613 614 616 617 619 620 623 624 625 626 628 629 631 633]\n",
            "Training Index:  [  0   1   2   3   4   5   6   7   8   9  10  11  12  13  14  15  16  17\n",
            "  18  19  20  21  22  23  24  25  26  27  28  29  30  31  32  33  34  35\n",
            "  36  37  38  39  40  41  42  43  44  45  46  47  48  49  50  51  52  53\n",
            "  54  55  56  57  58  59  60  61  62  63  64  65  66  67  68  69  70  71\n",
            "  72  73  74  75  76  77  78  79  80  81  82  83  84  85  86  87  88  89\n",
            "  90  91  92  93  94  95  96  97  98  99 100 101 102 103 104 105 106 107\n",
            " 108 109 110 111 112 113 114 115 116 117 118 119 120 121 122 123 124 125\n",
            " 126 127 128 129 130 131 132 133 134 135 136 137 138 139 140 141 142 143\n",
            " 144 145 146 147 148 149 150 151 152 153 154 155 156 157 158 159 160 161\n",
            " 162 163 164 165 166 167 168 169 170 171 172 173 174 175 176 177 178 179\n",
            " 180 181 182 183 184 185 186 187 188 189 190 191 192 193 194 195 196 197\n",
            " 198 199 200 201 202 203 204 205 206 207 208 209 210 211 212 213 214 215\n",
            " 216 217 218 219 220 221 222 223 224 225 226 227 228 229 230 231 232 233\n",
            " 234 235 236 237 238 239 240 241 242 243 244 245 246 247 248 249 250 251\n",
            " 252 253 254 255 256 257 258 259 260 261 262 263 264 265 266 267 268 269\n",
            " 270 271 272 273 274 275 276 277 278 279 280 281 282 283 284 285 286 287\n",
            " 288 289 290 291 292 293 294 295 296 297 298 299 300 301 302 303 304 305\n",
            " 306 307 308 309 310 311 312 313 314 315 316 317 318 319 320 321 322 323\n",
            " 324 325 326 327 328 329 330 331 332 333 334 335 336 337 338 339 340 341\n",
            " 342 343 344 345 346 347 348 349 350 351 352 353 354 355 356 357 358 359\n",
            " 360 361 362 363 364 365 366 367 368 369 370 371 372 373 374 375 376 377\n",
            " 378 379 380 381 382 383 384 385 386 387 388 389 390 391 392 393 394 395\n",
            " 396 397 398 399 400 401 402 403 404 405 406 407 408 409 410 411 412 413\n",
            " 414 415 416 417 418 419 420 421 422 423 424 425 426 427 428 429 430 431\n",
            " 432 433 434 435 436 437 438 439 440 441 442 443 444 445 446 447 448 449\n",
            " 450 451 452 453 454 455 456 457 458 459 460 461 462 463 464 465 466 467\n",
            " 468 469 470 471 472 473 474 475 476 477 478 479 480 481 482 483 484 485\n",
            " 486 487 488 489 490 491 492 493 494 495 496 497 498 499 500 501 502 503\n",
            " 504 505 506 507 508 509 510 511 512 513 514 515 516 517 518 519 520 521\n",
            " 522 523 524 525 526 527 528 529 530 531 532 533 534 535 536 537 538 539\n",
            " 540 541 542 543 544 545 546 547 548 549 550 551 552 553 554 555 556 557\n",
            " 558 559 560 561 562 563 564 565 566 567 568 569 570 571 572 573 574 575\n",
            " 576 577 578 579 580 581 582 583 584 585 586 587 588 589 590 591 592 593\n",
            " 594 595 596 597 598 599 600 601 602 603 604 605 606 607 610 611 613 614\n",
            " 616 617 619 620 623 624 625 626 628 629 631 633 706 707 708 709 710 712\n",
            " 716 717 720 722 723 724 725 726 727 728 729 730 731 732 733 734 735 736\n",
            " 737 738 739 740 741 742 743 744 745 746 747 748 749 750 751 752 753 754\n",
            " 755 756 757 758 759 760 761 762 763 764 765 766 767 768 769 770 771 772\n",
            " 773 774 775 776 777 778 779 780 781 782 783 784 785 786 787 788 789 790\n",
            " 791 792 793 794 795 796 797 798 799 800 801 802 803 804 805 806 807 808\n",
            " 809 810 811 812 813 814 815 816 817 818 819 820 821 822 823 824 825 826\n",
            " 827 828 829 830 831 832 833 834 835 836 837 838 839 840 841 842 843 844\n",
            " 845 846 847 848 849 850 851 852 853 854 855 856 857 858 859 860 861 862\n",
            " 863 864 865 866 867 868 869 870 871 872 873 874 875 876 877 878 879 880\n",
            " 881 882 883 884 885 886 887 888 889 890]\n",
            "Testing Index:  [608 609 612 615 618 621 622 627 630 632 634 635 636 637 638 639 640 641\n",
            " 642 643 644 645 646 647 648 649 650 651 652 653 654 655 656 657 658 659\n",
            " 660 661 662 663 664 665 666 667 668 669 670 671 672 673 674 675 676 677\n",
            " 678 679 680 681 682 683 684 685 686 687 688 689 690 691 692 693 694 695\n",
            " 696 697 698 699 700 701 702 703 704 705 711 713 714 715 718 719 721]\n",
            "Training Index:  [  0   1   2   3   4   5   6   7   8   9  10  11  12  13  14  15  16  17\n",
            "  18  19  20  21  22  23  24  25  26  27  28  29  30  31  32  33  34  35\n",
            "  36  37  38  39  40  41  42  43  44  45  46  47  48  49  50  51  52  53\n",
            "  54  55  56  57  58  59  60  61  62  63  64  65  66  67  68  69  70  71\n",
            "  72  73  74  75  76  77  78  79  80  81  82  83  84  85  86  87  88  89\n",
            "  90  91  92  93  94  95  96  97  98  99 100 101 102 103 104 105 106 107\n",
            " 108 109 110 111 112 113 114 115 116 117 118 119 120 121 122 123 124 125\n",
            " 126 127 128 129 130 131 132 133 134 135 136 137 138 139 140 141 142 143\n",
            " 144 145 146 147 148 149 150 151 152 153 154 155 156 157 158 159 160 161\n",
            " 162 163 164 165 166 167 168 169 170 171 172 173 174 175 176 177 178 179\n",
            " 180 181 182 183 184 185 186 187 188 189 190 191 192 193 194 195 196 197\n",
            " 198 199 200 201 202 203 204 205 206 207 208 209 210 211 212 213 214 215\n",
            " 216 217 218 219 220 221 222 223 224 225 226 227 228 229 230 231 232 233\n",
            " 234 235 236 237 238 239 240 241 242 243 244 245 246 247 248 249 250 251\n",
            " 252 253 254 255 256 257 258 259 260 261 262 263 264 265 266 267 268 269\n",
            " 270 271 272 273 274 275 276 277 278 279 280 281 282 283 284 285 286 287\n",
            " 288 289 290 291 292 293 294 295 296 297 298 299 300 301 302 303 304 305\n",
            " 306 307 308 309 310 311 312 313 314 315 316 317 318 319 320 321 322 323\n",
            " 324 325 326 327 328 329 330 331 332 333 334 335 336 337 338 339 340 341\n",
            " 342 343 344 345 346 347 348 349 350 351 352 353 354 355 356 357 358 359\n",
            " 360 361 362 363 364 365 366 367 368 369 370 371 372 373 374 375 376 377\n",
            " 378 379 380 381 382 383 384 385 386 387 388 389 390 391 392 393 394 395\n",
            " 396 397 398 399 400 401 402 403 404 405 406 407 408 409 410 411 412 413\n",
            " 414 415 416 417 418 419 420 421 422 423 424 425 426 427 428 429 430 431\n",
            " 432 433 434 435 436 437 438 439 440 441 442 443 444 445 446 447 448 449\n",
            " 450 451 452 453 454 455 456 457 458 459 460 461 462 463 464 465 466 467\n",
            " 468 469 470 471 472 473 474 475 476 477 478 479 480 481 482 483 484 485\n",
            " 486 487 488 489 490 491 492 493 494 495 496 497 498 499 500 501 502 503\n",
            " 504 505 506 507 508 509 510 511 512 513 514 515 516 517 518 519 520 521\n",
            " 522 523 524 525 526 527 528 529 530 531 532 533 534 535 536 537 538 539\n",
            " 540 541 542 543 544 545 546 547 548 549 550 551 552 553 554 555 556 557\n",
            " 558 559 560 561 562 563 564 565 566 567 568 569 570 571 572 573 574 575\n",
            " 576 577 578 579 580 581 582 583 584 585 586 587 588 589 590 591 592 593\n",
            " 594 595 596 597 598 599 600 601 602 603 604 605 606 607 608 609 610 611\n",
            " 612 613 614 615 616 617 618 619 620 621 622 623 624 625 626 627 628 629\n",
            " 630 631 632 633 634 635 636 637 638 639 640 641 642 643 644 645 646 647\n",
            " 648 649 650 651 652 653 654 655 656 657 658 659 660 661 662 663 664 665\n",
            " 666 667 668 669 670 671 672 673 674 675 676 677 678 679 680 681 682 683\n",
            " 684 685 686 687 688 689 690 691 692 693 694 695 696 697 698 699 700 701\n",
            " 702 703 704 705 711 713 714 715 718 719 721 797 801 802 803 804 807 808\n",
            " 809 810 811 812 813 814 815 816 817 818 819 820 821 822 823 824 825 826\n",
            " 827 828 829 830 831 832 833 834 835 836 837 838 839 840 841 842 843 844\n",
            " 845 846 847 848 849 850 851 852 853 854 855 856 857 858 859 860 861 862\n",
            " 863 864 865 866 867 868 869 870 871 872 873 874 875 876 877 878 879 880\n",
            " 881 882 883 884 885 886 887 888 889 890]\n",
            "Testing Index:  [706 707 708 709 710 712 716 717 720 722 723 724 725 726 727 728 729 730\n",
            " 731 732 733 734 735 736 737 738 739 740 741 742 743 744 745 746 747 748\n",
            " 749 750 751 752 753 754 755 756 757 758 759 760 761 762 763 764 765 766\n",
            " 767 768 769 770 771 772 773 774 775 776 777 778 779 780 781 782 783 784\n",
            " 785 786 787 788 789 790 791 792 793 794 795 796 798 799 800 805 806]\n",
            "Training Index:  [  0   1   2   3   4   5   6   7   8   9  10  11  12  13  14  15  16  17\n",
            "  18  19  20  21  22  23  24  25  26  27  28  29  30  31  32  33  34  35\n",
            "  36  37  38  39  40  41  42  43  44  45  46  47  48  49  50  51  52  53\n",
            "  54  55  56  57  58  59  60  61  62  63  64  65  66  67  68  69  70  71\n",
            "  72  73  74  75  76  77  78  79  80  81  82  83  84  85  86  87  88  89\n",
            "  90  91  92  93  94  95  96  97  98  99 100 101 102 103 104 105 106 107\n",
            " 108 109 110 111 112 113 114 115 116 117 118 119 120 121 122 123 124 125\n",
            " 126 127 128 129 130 131 132 133 134 135 136 137 138 139 140 141 142 143\n",
            " 144 145 146 147 148 149 150 151 152 153 154 155 156 157 158 159 160 161\n",
            " 162 163 164 165 166 167 168 169 170 171 172 173 174 175 176 177 178 179\n",
            " 180 181 182 183 184 185 186 187 188 189 190 191 192 193 194 195 196 197\n",
            " 198 199 200 201 202 203 204 205 206 207 208 209 210 211 212 213 214 215\n",
            " 216 217 218 219 220 221 222 223 224 225 226 227 228 229 230 231 232 233\n",
            " 234 235 236 237 238 239 240 241 242 243 244 245 246 247 248 249 250 251\n",
            " 252 253 254 255 256 257 258 259 260 261 262 263 264 265 266 267 268 269\n",
            " 270 271 272 273 274 275 276 277 278 279 280 281 282 283 284 285 286 287\n",
            " 288 289 290 291 292 293 294 295 296 297 298 299 300 301 302 303 304 305\n",
            " 306 307 308 309 310 311 312 313 314 315 316 317 318 319 320 321 322 323\n",
            " 324 325 326 327 328 329 330 331 332 333 334 335 336 337 338 339 340 341\n",
            " 342 343 344 345 346 347 348 349 350 351 352 353 354 355 356 357 358 359\n",
            " 360 361 362 363 364 365 366 367 368 369 370 371 372 373 374 375 376 377\n",
            " 378 379 380 381 382 383 384 385 386 387 388 389 390 391 392 393 394 395\n",
            " 396 397 398 399 400 401 402 403 404 405 406 407 408 409 410 411 412 413\n",
            " 414 415 416 417 418 419 420 421 422 423 424 425 426 427 428 429 430 431\n",
            " 432 433 434 435 436 437 438 439 440 441 442 443 444 445 446 447 448 449\n",
            " 450 451 452 453 454 455 456 457 458 459 460 461 462 463 464 465 466 467\n",
            " 468 469 470 471 472 473 474 475 476 477 478 479 480 481 482 483 484 485\n",
            " 486 487 488 489 490 491 492 493 494 495 496 497 498 499 500 501 502 503\n",
            " 504 505 506 507 508 509 510 511 512 513 514 515 516 517 518 519 520 521\n",
            " 522 523 524 525 526 527 528 529 530 531 532 533 534 535 536 537 538 539\n",
            " 540 541 542 543 544 545 546 547 548 549 550 551 552 553 554 555 556 557\n",
            " 558 559 560 561 562 563 564 565 566 567 568 569 570 571 572 573 574 575\n",
            " 576 577 578 579 580 581 582 583 584 585 586 587 588 589 590 591 592 593\n",
            " 594 595 596 597 598 599 600 601 602 603 604 605 606 607 608 609 610 611\n",
            " 612 613 614 615 616 617 618 619 620 621 622 623 624 625 626 627 628 629\n",
            " 630 631 632 633 634 635 636 637 638 639 640 641 642 643 644 645 646 647\n",
            " 648 649 650 651 652 653 654 655 656 657 658 659 660 661 662 663 664 665\n",
            " 666 667 668 669 670 671 672 673 674 675 676 677 678 679 680 681 682 683\n",
            " 684 685 686 687 688 689 690 691 692 693 694 695 696 697 698 699 700 701\n",
            " 702 703 704 705 706 707 708 709 710 711 712 713 714 715 716 717 718 719\n",
            " 720 721 722 723 724 725 726 727 728 729 730 731 732 733 734 735 736 737\n",
            " 738 739 740 741 742 743 744 745 746 747 748 749 750 751 752 753 754 755\n",
            " 756 757 758 759 760 761 762 763 764 765 766 767 768 769 770 771 772 773\n",
            " 774 775 776 777 778 779 780 781 782 783 784 785 786 787 788 789 790 791\n",
            " 792 793 794 795 796 798 799 800 805 806]\n",
            "Testing Index:  [797 801 802 803 804 807 808 809 810 811 812 813 814 815 816 817 818 819\n",
            " 820 821 822 823 824 825 826 827 828 829 830 831 832 833 834 835 836 837\n",
            " 838 839 840 841 842 843 844 845 846 847 848 849 850 851 852 853 854 855\n",
            " 856 857 858 859 860 861 862 863 864 865 866 867 868 869 870 871 872 873\n",
            " 874 875 876 877 878 879 880 881 882 883 884 885 886 887 888 889 890]\n"
          ]
        }
      ]
    },
    {
      "cell_type": "markdown",
      "source": [
        "Stratified cross validation Using Linear Regression"
      ],
      "metadata": {
        "id": "TgYp5goScJo-"
      }
    },
    {
      "cell_type": "code",
      "source": [
        "cv_res = cross_val_score(LR_model,X,y,cv=skfold_validator)"
      ],
      "metadata": {
        "id": "bzZOWykq_6o8"
      },
      "execution_count": null,
      "outputs": []
    },
    {
      "cell_type": "code",
      "source": [
        "cv_res"
      ],
      "metadata": {
        "colab": {
          "base_uri": "https://localhost:8080/"
        },
        "id": "60rMwzZZ_6ri",
        "outputId": "12e49b89-c1b4-4e07-8580-65db8e53d6b7"
      },
      "execution_count": 42,
      "outputs": [
        {
          "output_type": "execute_result",
          "data": {
            "text/plain": [
              "array([0.76666667, 0.82022472, 0.76404494, 0.84269663, 0.76404494,\n",
              "       0.75280899, 0.7752809 , 0.75280899, 0.82022472, 0.76404494])"
            ]
          },
          "metadata": {},
          "execution_count": 42
        }
      ]
    },
    {
      "cell_type": "code",
      "source": [
        "np.mean(cv_res)"
      ],
      "metadata": {
        "colab": {
          "base_uri": "https://localhost:8080/"
        },
        "id": "2_K7e3Zp_6u7",
        "outputId": "55f00666-c7db-4227-e4e9-4d780663ce8a"
      },
      "execution_count": 43,
      "outputs": [
        {
          "output_type": "execute_result",
          "data": {
            "text/plain": [
              "0.7822846441947566"
            ]
          },
          "metadata": {},
          "execution_count": 43
        }
      ]
    },
    {
      "cell_type": "markdown",
      "source": [
        "Stratified cross validation Using kNN"
      ],
      "metadata": {
        "id": "JTwgPm5zb5t-"
      }
    },
    {
      "cell_type": "code",
      "source": [
        "cv_result = cross_val_score(knn,X,y,cv=skfold_validator)\n",
        "cv_result"
      ],
      "metadata": {
        "colab": {
          "base_uri": "https://localhost:8080/"
        },
        "id": "YUXtSKnB_6xr",
        "outputId": "ecf1514a-0008-4482-b550-c9b260e2a0f3"
      },
      "execution_count": 49,
      "outputs": [
        {
          "output_type": "execute_result",
          "data": {
            "text/plain": [
              "array([0.61111111, 0.61797753, 0.51685393, 0.51685393, 0.5505618 ,\n",
              "       0.68539326, 0.70786517, 0.61797753, 0.68539326, 0.61797753])"
            ]
          },
          "metadata": {},
          "execution_count": 49
        }
      ]
    },
    {
      "cell_type": "code",
      "source": [
        "np.mean(cv_result)"
      ],
      "metadata": {
        "colab": {
          "base_uri": "https://localhost:8080/"
        },
        "id": "H0mBZH_-cayK",
        "outputId": "ddf854e3-e865-415e-e549-b1db51cc0e55"
      },
      "execution_count": 50,
      "outputs": [
        {
          "output_type": "execute_result",
          "data": {
            "text/plain": [
              "0.6127965043695381"
            ]
          },
          "metadata": {},
          "execution_count": 50
        }
      ]
    },
    {
      "cell_type": "markdown",
      "source": [
        "Stratified cross validation Using SVM"
      ],
      "metadata": {
        "id": "A1dvqtuFi2_4"
      }
    },
    {
      "cell_type": "code",
      "source": [
        "cv_res_svm = cross_val_score(classifier,X,y,cv=skfold_validator)\n",
        "cv_res_svm"
      ],
      "metadata": {
        "colab": {
          "base_uri": "https://localhost:8080/"
        },
        "id": "FeWQwwz5i7GT",
        "outputId": "56e77397-bdbe-4c8b-8d1b-d1addf09908a"
      },
      "execution_count": 60,
      "outputs": [
        {
          "output_type": "execute_result",
          "data": {
            "text/plain": [
              "array([0.8       , 0.79775281, 0.76404494, 0.84269663, 0.79775281,\n",
              "       0.7752809 , 0.7752809 , 0.74157303, 0.80898876, 0.76404494])"
            ]
          },
          "metadata": {},
          "execution_count": 60
        }
      ]
    },
    {
      "cell_type": "code",
      "source": [
        "np.mean(cv_res_svm)"
      ],
      "metadata": {
        "colab": {
          "base_uri": "https://localhost:8080/"
        },
        "id": "Q45zlskDi7Vw",
        "outputId": "7b9b1301-5929-4464-9a16-2e747c50a035"
      },
      "execution_count": 61,
      "outputs": [
        {
          "output_type": "execute_result",
          "data": {
            "text/plain": [
              "0.7867415730337078"
            ]
          },
          "metadata": {},
          "execution_count": 61
        }
      ]
    },
    {
      "cell_type": "markdown",
      "source": [
        "CONCLUSION\n",
        "\n",
        "What i understand is that accuracy does not change ,it comes with the same values in K-fold and Stratified Cross validation.After the k-fold and Stratified cross validation accuracy has increased."
      ],
      "metadata": {
        "id": "4_gFKLXLqsZA"
      }
    }
  ],
  "metadata": {
    "colab": {
      "provenance": []
    },
    "kernelspec": {
      "display_name": "Python 3",
      "name": "python3"
    },
    "language_info": {
      "name": "python"
    }
  },
  "nbformat": 4,
  "nbformat_minor": 0
}